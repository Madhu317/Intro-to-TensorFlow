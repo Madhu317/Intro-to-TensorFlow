{
  "nbformat": 4,
  "nbformat_minor": 0,
  "metadata": {
    "kernelspec": {
      "display_name": "Python 3",
      "language": "python",
      "name": "python3"
    },
    "language_info": {
      "codemirror_mode": {
        "name": "ipython",
        "version": 3
      },
      "file_extension": ".py",
      "mimetype": "text/x-python",
      "name": "python",
      "nbconvert_exporter": "python",
      "pygments_lexer": "ipython3",
      "version": "3.7.5rc1"
    },
    "colab": {
      "name": "tf2-workshop.ipynb",
      "provenance": [],
      "collapsed_sections": [],
      "machine_shape": "hm",
      "include_colab_link": true
    },
    "accelerator": "GPU",
    "widgets": {
      "application/vnd.jupyter.widget-state+json": {
        "22e5df9e95eb4813b02cdbcffc0036ec": {
          "model_module": "@jupyter-widgets/controls",
          "model_name": "DropdownModel",
          "state": {
            "_options_labels": [
              "OR",
              "AND",
              "XOR"
            ],
            "_view_name": "DropdownView",
            "style": "IPY_MODEL_ad3b7971e3744ad5904b91c5a84521bb",
            "_dom_classes": [],
            "description": "Choose data:",
            "_model_name": "DropdownModel",
            "index": 0,
            "_view_module": "@jupyter-widgets/controls",
            "_model_module_version": "1.5.0",
            "_view_count": null,
            "disabled": false,
            "_view_module_version": "1.5.0",
            "description_tooltip": null,
            "_model_module": "@jupyter-widgets/controls",
            "layout": "IPY_MODEL_ba09ce2f5fe24b8399d5fa86a3e1ae9f"
          }
        },
        "ad3b7971e3744ad5904b91c5a84521bb": {
          "model_module": "@jupyter-widgets/controls",
          "model_name": "DescriptionStyleModel",
          "state": {
            "_view_name": "StyleView",
            "_model_name": "DescriptionStyleModel",
            "description_width": "",
            "_view_module": "@jupyter-widgets/base",
            "_model_module_version": "1.5.0",
            "_view_count": null,
            "_view_module_version": "1.2.0",
            "_model_module": "@jupyter-widgets/controls"
          }
        },
        "ba09ce2f5fe24b8399d5fa86a3e1ae9f": {
          "model_module": "@jupyter-widgets/base",
          "model_name": "LayoutModel",
          "state": {
            "_view_name": "LayoutView",
            "grid_template_rows": null,
            "right": null,
            "justify_content": null,
            "_view_module": "@jupyter-widgets/base",
            "overflow": null,
            "_model_module_version": "1.2.0",
            "_view_count": null,
            "flex_flow": null,
            "width": null,
            "min_width": null,
            "border": null,
            "align_items": null,
            "bottom": null,
            "_model_module": "@jupyter-widgets/base",
            "top": null,
            "grid_column": null,
            "overflow_y": null,
            "overflow_x": null,
            "grid_auto_flow": null,
            "grid_area": null,
            "grid_template_columns": null,
            "flex": null,
            "_model_name": "LayoutModel",
            "justify_items": null,
            "grid_row": null,
            "max_height": null,
            "align_content": null,
            "visibility": null,
            "align_self": null,
            "height": null,
            "min_height": null,
            "padding": null,
            "grid_auto_rows": null,
            "grid_gap": null,
            "max_width": null,
            "order": null,
            "_view_module_version": "1.2.0",
            "grid_template_areas": null,
            "object_position": null,
            "object_fit": null,
            "grid_auto_columns": null,
            "margin": null,
            "display": null,
            "left": null
          }
        },
        "446bc6790d7d4792891f449818515e88": {
          "model_module": "@jupyter-widgets/controls",
          "model_name": "DropdownModel",
          "state": {
            "_options_labels": [
              "perceptron",
              "random forest"
            ],
            "_view_name": "DropdownView",
            "style": "IPY_MODEL_515e1850c0164bf4a2bd74e2703b0f13",
            "_dom_classes": [],
            "description": "Choose data:",
            "_model_name": "DropdownModel",
            "index": 1,
            "_view_module": "@jupyter-widgets/controls",
            "_model_module_version": "1.5.0",
            "_view_count": null,
            "disabled": false,
            "_view_module_version": "1.5.0",
            "description_tooltip": null,
            "_model_module": "@jupyter-widgets/controls",
            "layout": "IPY_MODEL_4c3c835435504752903e5855438663ad"
          }
        },
        "515e1850c0164bf4a2bd74e2703b0f13": {
          "model_module": "@jupyter-widgets/controls",
          "model_name": "DescriptionStyleModel",
          "state": {
            "_view_name": "StyleView",
            "_model_name": "DescriptionStyleModel",
            "description_width": "",
            "_view_module": "@jupyter-widgets/base",
            "_model_module_version": "1.5.0",
            "_view_count": null,
            "_view_module_version": "1.2.0",
            "_model_module": "@jupyter-widgets/controls"
          }
        },
        "4c3c835435504752903e5855438663ad": {
          "model_module": "@jupyter-widgets/base",
          "model_name": "LayoutModel",
          "state": {
            "_view_name": "LayoutView",
            "grid_template_rows": null,
            "right": null,
            "justify_content": null,
            "_view_module": "@jupyter-widgets/base",
            "overflow": null,
            "_model_module_version": "1.2.0",
            "_view_count": null,
            "flex_flow": null,
            "width": null,
            "min_width": null,
            "border": null,
            "align_items": null,
            "bottom": null,
            "_model_module": "@jupyter-widgets/base",
            "top": null,
            "grid_column": null,
            "overflow_y": null,
            "overflow_x": null,
            "grid_auto_flow": null,
            "grid_area": null,
            "grid_template_columns": null,
            "flex": null,
            "_model_name": "LayoutModel",
            "justify_items": null,
            "grid_row": null,
            "max_height": null,
            "align_content": null,
            "visibility": null,
            "align_self": null,
            "height": null,
            "min_height": null,
            "padding": null,
            "grid_auto_rows": null,
            "grid_gap": null,
            "max_width": null,
            "order": null,
            "_view_module_version": "1.2.0",
            "grid_template_areas": null,
            "object_position": null,
            "object_fit": null,
            "grid_auto_columns": null,
            "margin": null,
            "display": null,
            "left": null
          }
        },
        "1601447f90e44be8a71dedd66747dd11": {
          "model_module": "@jupyter-widgets/output",
          "model_name": "OutputModel",
          "state": {
            "_view_name": "OutputView",
            "msg_id": "",
            "_dom_classes": [],
            "_model_name": "OutputModel",
            "outputs": [
              {
                "output_type": "display_data",
                "metadata": {
                  "tags": [],
                  "needs_background": "light"
                },
                "image/png": "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\n",
                "text/plain": "<Figure size 576x576 with 1 Axes>"
              }
            ],
            "_view_module": "@jupyter-widgets/output",
            "_model_module_version": "1.0.0",
            "_view_count": null,
            "_view_module_version": "1.0.0",
            "layout": "IPY_MODEL_b04cbdc8a56b4ec5a2a51aa2ff973b2c",
            "_model_module": "@jupyter-widgets/output"
          }
        },
        "b04cbdc8a56b4ec5a2a51aa2ff973b2c": {
          "model_module": "@jupyter-widgets/base",
          "model_name": "LayoutModel",
          "state": {
            "_view_name": "LayoutView",
            "grid_template_rows": null,
            "right": null,
            "justify_content": null,
            "_view_module": "@jupyter-widgets/base",
            "overflow": null,
            "_model_module_version": "1.2.0",
            "_view_count": null,
            "flex_flow": null,
            "width": null,
            "min_width": null,
            "border": null,
            "align_items": null,
            "bottom": null,
            "_model_module": "@jupyter-widgets/base",
            "top": null,
            "grid_column": null,
            "overflow_y": null,
            "overflow_x": null,
            "grid_auto_flow": null,
            "grid_area": null,
            "grid_template_columns": null,
            "flex": null,
            "_model_name": "LayoutModel",
            "justify_items": null,
            "grid_row": null,
            "max_height": null,
            "align_content": null,
            "visibility": null,
            "align_self": null,
            "height": null,
            "min_height": null,
            "padding": null,
            "grid_auto_rows": null,
            "grid_gap": null,
            "max_width": null,
            "order": null,
            "_view_module_version": "1.2.0",
            "grid_template_areas": null,
            "object_position": null,
            "object_fit": null,
            "grid_auto_columns": null,
            "margin": null,
            "display": null,
            "left": null
          }
        },
        "eae5cf0516334b6e852160fa7d150950": {
          "model_module": "@jupyter-widgets/controls",
          "model_name": "VBoxModel",
          "state": {
            "_view_name": "VBoxView",
            "_dom_classes": [
              "widget-interact"
            ],
            "_model_name": "VBoxModel",
            "_view_module": "@jupyter-widgets/controls",
            "_model_module_version": "1.5.0",
            "_view_count": null,
            "_view_module_version": "1.5.0",
            "box_style": "",
            "layout": "IPY_MODEL_b64f7cfb362b416fa735bc38fba88896",
            "_model_module": "@jupyter-widgets/controls",
            "children": [
              "IPY_MODEL_53cfd972f89b48f0aa4d3d9bbe8c02fb",
              "IPY_MODEL_dcab482004084acaba052d4ae7e5047f",
              "IPY_MODEL_632fd1b7319e43b390c7027f32e041f3"
            ]
          }
        },
        "b64f7cfb362b416fa735bc38fba88896": {
          "model_module": "@jupyter-widgets/base",
          "model_name": "LayoutModel",
          "state": {
            "_view_name": "LayoutView",
            "grid_template_rows": null,
            "right": null,
            "justify_content": null,
            "_view_module": "@jupyter-widgets/base",
            "overflow": null,
            "_model_module_version": "1.2.0",
            "_view_count": null,
            "flex_flow": null,
            "width": null,
            "min_width": null,
            "border": null,
            "align_items": null,
            "bottom": null,
            "_model_module": "@jupyter-widgets/base",
            "top": null,
            "grid_column": null,
            "overflow_y": null,
            "overflow_x": null,
            "grid_auto_flow": null,
            "grid_area": null,
            "grid_template_columns": null,
            "flex": null,
            "_model_name": "LayoutModel",
            "justify_items": null,
            "grid_row": null,
            "max_height": null,
            "align_content": null,
            "visibility": null,
            "align_self": null,
            "height": null,
            "min_height": null,
            "padding": null,
            "grid_auto_rows": null,
            "grid_gap": null,
            "max_width": null,
            "order": null,
            "_view_module_version": "1.2.0",
            "grid_template_areas": null,
            "object_position": null,
            "object_fit": null,
            "grid_auto_columns": null,
            "margin": null,
            "display": null,
            "left": null
          }
        },
        "53cfd972f89b48f0aa4d3d9bbe8c02fb": {
          "model_module": "@jupyter-widgets/controls",
          "model_name": "IntSliderModel",
          "state": {
            "_view_name": "IntSliderView",
            "style": "IPY_MODEL_f78b7349ff114269a6d5d03e556af9a8",
            "_dom_classes": [],
            "description": "a",
            "step": 1,
            "_model_name": "IntSliderModel",
            "orientation": "horizontal",
            "max": 240,
            "_view_module": "@jupyter-widgets/controls",
            "_model_module_version": "1.5.0",
            "value": 80,
            "_view_count": null,
            "disabled": false,
            "_view_module_version": "1.5.0",
            "min": -80,
            "continuous_update": true,
            "readout_format": "d",
            "description_tooltip": null,
            "readout": true,
            "_model_module": "@jupyter-widgets/controls",
            "layout": "IPY_MODEL_001fd6a099d44e98b36503a37854ed72"
          }
        },
        "dcab482004084acaba052d4ae7e5047f": {
          "model_module": "@jupyter-widgets/controls",
          "model_name": "IntSliderModel",
          "state": {
            "_view_name": "IntSliderView",
            "style": "IPY_MODEL_f690f834d24d4106b24f3671341a5ab9",
            "_dom_classes": [],
            "description": "b",
            "step": 1,
            "_model_name": "IntSliderModel",
            "orientation": "horizontal",
            "max": 90,
            "_view_module": "@jupyter-widgets/controls",
            "_model_module_version": "1.5.0",
            "value": 30,
            "_view_count": null,
            "disabled": false,
            "_view_module_version": "1.5.0",
            "min": -30,
            "continuous_update": true,
            "readout_format": "d",
            "description_tooltip": null,
            "readout": true,
            "_model_module": "@jupyter-widgets/controls",
            "layout": "IPY_MODEL_9ad8a8e4c5734143991d7462c79f8229"
          }
        },
        "632fd1b7319e43b390c7027f32e041f3": {
          "model_module": "@jupyter-widgets/output",
          "model_name": "OutputModel",
          "state": {
            "_view_name": "OutputView",
            "msg_id": "",
            "_dom_classes": [],
            "_model_name": "OutputModel",
            "outputs": [
              {
                "output_type": "display_data",
                "metadata": {
                  "tags": []
                },
                "image/png": "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\n",
                "text/plain": "<Figure size 720x720 with 1 Axes>"
              }
            ],
            "_view_module": "@jupyter-widgets/output",
            "_model_module_version": "1.0.0",
            "_view_count": null,
            "_view_module_version": "1.0.0",
            "layout": "IPY_MODEL_b986fa8dfcb24974b3631af0be82f4b6",
            "_model_module": "@jupyter-widgets/output"
          }
        },
        "f78b7349ff114269a6d5d03e556af9a8": {
          "model_module": "@jupyter-widgets/controls",
          "model_name": "SliderStyleModel",
          "state": {
            "_view_name": "StyleView",
            "handle_color": null,
            "_model_name": "SliderStyleModel",
            "description_width": "",
            "_view_module": "@jupyter-widgets/base",
            "_model_module_version": "1.5.0",
            "_view_count": null,
            "_view_module_version": "1.2.0",
            "_model_module": "@jupyter-widgets/controls"
          }
        },
        "001fd6a099d44e98b36503a37854ed72": {
          "model_module": "@jupyter-widgets/base",
          "model_name": "LayoutModel",
          "state": {
            "_view_name": "LayoutView",
            "grid_template_rows": null,
            "right": null,
            "justify_content": null,
            "_view_module": "@jupyter-widgets/base",
            "overflow": null,
            "_model_module_version": "1.2.0",
            "_view_count": null,
            "flex_flow": null,
            "width": null,
            "min_width": null,
            "border": null,
            "align_items": null,
            "bottom": null,
            "_model_module": "@jupyter-widgets/base",
            "top": null,
            "grid_column": null,
            "overflow_y": null,
            "overflow_x": null,
            "grid_auto_flow": null,
            "grid_area": null,
            "grid_template_columns": null,
            "flex": null,
            "_model_name": "LayoutModel",
            "justify_items": null,
            "grid_row": null,
            "max_height": null,
            "align_content": null,
            "visibility": null,
            "align_self": null,
            "height": null,
            "min_height": null,
            "padding": null,
            "grid_auto_rows": null,
            "grid_gap": null,
            "max_width": null,
            "order": null,
            "_view_module_version": "1.2.0",
            "grid_template_areas": null,
            "object_position": null,
            "object_fit": null,
            "grid_auto_columns": null,
            "margin": null,
            "display": null,
            "left": null
          }
        },
        "f690f834d24d4106b24f3671341a5ab9": {
          "model_module": "@jupyter-widgets/controls",
          "model_name": "SliderStyleModel",
          "state": {
            "_view_name": "StyleView",
            "handle_color": null,
            "_model_name": "SliderStyleModel",
            "description_width": "",
            "_view_module": "@jupyter-widgets/base",
            "_model_module_version": "1.5.0",
            "_view_count": null,
            "_view_module_version": "1.2.0",
            "_model_module": "@jupyter-widgets/controls"
          }
        },
        "9ad8a8e4c5734143991d7462c79f8229": {
          "model_module": "@jupyter-widgets/base",
          "model_name": "LayoutModel",
          "state": {
            "_view_name": "LayoutView",
            "grid_template_rows": null,
            "right": null,
            "justify_content": null,
            "_view_module": "@jupyter-widgets/base",
            "overflow": null,
            "_model_module_version": "1.2.0",
            "_view_count": null,
            "flex_flow": null,
            "width": null,
            "min_width": null,
            "border": null,
            "align_items": null,
            "bottom": null,
            "_model_module": "@jupyter-widgets/base",
            "top": null,
            "grid_column": null,
            "overflow_y": null,
            "overflow_x": null,
            "grid_auto_flow": null,
            "grid_area": null,
            "grid_template_columns": null,
            "flex": null,
            "_model_name": "LayoutModel",
            "justify_items": null,
            "grid_row": null,
            "max_height": null,
            "align_content": null,
            "visibility": null,
            "align_self": null,
            "height": null,
            "min_height": null,
            "padding": null,
            "grid_auto_rows": null,
            "grid_gap": null,
            "max_width": null,
            "order": null,
            "_view_module_version": "1.2.0",
            "grid_template_areas": null,
            "object_position": null,
            "object_fit": null,
            "grid_auto_columns": null,
            "margin": null,
            "display": null,
            "left": null
          }
        },
        "b986fa8dfcb24974b3631af0be82f4b6": {
          "model_module": "@jupyter-widgets/base",
          "model_name": "LayoutModel",
          "state": {
            "_view_name": "LayoutView",
            "grid_template_rows": null,
            "right": null,
            "justify_content": null,
            "_view_module": "@jupyter-widgets/base",
            "overflow": null,
            "_model_module_version": "1.2.0",
            "_view_count": null,
            "flex_flow": null,
            "width": null,
            "min_width": null,
            "border": null,
            "align_items": null,
            "bottom": null,
            "_model_module": "@jupyter-widgets/base",
            "top": null,
            "grid_column": null,
            "overflow_y": null,
            "overflow_x": null,
            "grid_auto_flow": null,
            "grid_area": null,
            "grid_template_columns": null,
            "flex": null,
            "_model_name": "LayoutModel",
            "justify_items": null,
            "grid_row": null,
            "max_height": null,
            "align_content": null,
            "visibility": null,
            "align_self": null,
            "height": null,
            "min_height": null,
            "padding": null,
            "grid_auto_rows": null,
            "grid_gap": null,
            "max_width": null,
            "order": null,
            "_view_module_version": "1.2.0",
            "grid_template_areas": null,
            "object_position": null,
            "object_fit": null,
            "grid_auto_columns": null,
            "margin": null,
            "display": null,
            "left": null
          }
        },
        "4b60b9c6b8ea455faeaa0782aeb3976d": {
          "model_module": "@jupyter-widgets/controls",
          "model_name": "VBoxModel",
          "state": {
            "_view_name": "VBoxView",
            "_dom_classes": [
              "widget-interact"
            ],
            "_model_name": "VBoxModel",
            "_view_module": "@jupyter-widgets/controls",
            "_model_module_version": "1.5.0",
            "_view_count": null,
            "_view_module_version": "1.5.0",
            "box_style": "",
            "layout": "IPY_MODEL_3cd0c5c792854b3e9919914b48c51b71",
            "_model_module": "@jupyter-widgets/controls",
            "children": [
              "IPY_MODEL_a104340d996848af9a2a67d7b4c395e4",
              "IPY_MODEL_1f6c26e75f434a88a365d53fad82e4c4",
              "IPY_MODEL_91fbe0ba283e4e81aa1cc5f6123c228d"
            ]
          }
        },
        "3cd0c5c792854b3e9919914b48c51b71": {
          "model_module": "@jupyter-widgets/base",
          "model_name": "LayoutModel",
          "state": {
            "_view_name": "LayoutView",
            "grid_template_rows": null,
            "right": null,
            "justify_content": null,
            "_view_module": "@jupyter-widgets/base",
            "overflow": null,
            "_model_module_version": "1.2.0",
            "_view_count": null,
            "flex_flow": null,
            "width": null,
            "min_width": null,
            "border": null,
            "align_items": null,
            "bottom": null,
            "_model_module": "@jupyter-widgets/base",
            "top": null,
            "grid_column": null,
            "overflow_y": null,
            "overflow_x": null,
            "grid_auto_flow": null,
            "grid_area": null,
            "grid_template_columns": null,
            "flex": null,
            "_model_name": "LayoutModel",
            "justify_items": null,
            "grid_row": null,
            "max_height": null,
            "align_content": null,
            "visibility": null,
            "align_self": null,
            "height": null,
            "min_height": null,
            "padding": null,
            "grid_auto_rows": null,
            "grid_gap": null,
            "max_width": null,
            "order": null,
            "_view_module_version": "1.2.0",
            "grid_template_areas": null,
            "object_position": null,
            "object_fit": null,
            "grid_auto_columns": null,
            "margin": null,
            "display": null,
            "left": null
          }
        },
        "a104340d996848af9a2a67d7b4c395e4": {
          "model_module": "@jupyter-widgets/controls",
          "model_name": "IntSliderModel",
          "state": {
            "_view_name": "IntSliderView",
            "style": "IPY_MODEL_2f3f523af75147e7945a21538a135de3",
            "_dom_classes": [],
            "description": "a",
            "step": 1,
            "_model_name": "IntSliderModel",
            "orientation": "horizontal",
            "max": 240,
            "_view_module": "@jupyter-widgets/controls",
            "_model_module_version": "1.5.0",
            "value": 80,
            "_view_count": null,
            "disabled": false,
            "_view_module_version": "1.5.0",
            "min": -80,
            "continuous_update": true,
            "readout_format": "d",
            "description_tooltip": null,
            "readout": true,
            "_model_module": "@jupyter-widgets/controls",
            "layout": "IPY_MODEL_d875a45c7a764abf9fcddf8984f0c2b8"
          }
        },
        "1f6c26e75f434a88a365d53fad82e4c4": {
          "model_module": "@jupyter-widgets/controls",
          "model_name": "IntSliderModel",
          "state": {
            "_view_name": "IntSliderView",
            "style": "IPY_MODEL_c9b982d616ec4058926def858954d3e1",
            "_dom_classes": [],
            "description": "b",
            "step": 1,
            "_model_name": "IntSliderModel",
            "orientation": "horizontal",
            "max": 90,
            "_view_module": "@jupyter-widgets/controls",
            "_model_module_version": "1.5.0",
            "value": 30,
            "_view_count": null,
            "disabled": false,
            "_view_module_version": "1.5.0",
            "min": -30,
            "continuous_update": true,
            "readout_format": "d",
            "description_tooltip": null,
            "readout": true,
            "_model_module": "@jupyter-widgets/controls",
            "layout": "IPY_MODEL_7e49700e1a474823b7be3c1229d1bc76"
          }
        },
        "91fbe0ba283e4e81aa1cc5f6123c228d": {
          "model_module": "@jupyter-widgets/output",
          "model_name": "OutputModel",
          "state": {
            "_view_name": "OutputView",
            "msg_id": "",
            "_dom_classes": [],
            "_model_name": "OutputModel",
            "outputs": [
              {
                "output_type": "display_data",
                "metadata": {
                  "tags": []
                },
                "image/png": "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\n",
                "text/plain": "<Figure size 720x720 with 1 Axes>"
              }
            ],
            "_view_module": "@jupyter-widgets/output",
            "_model_module_version": "1.0.0",
            "_view_count": null,
            "_view_module_version": "1.0.0",
            "layout": "IPY_MODEL_9c60397ce438487ca51ae3bc10c34921",
            "_model_module": "@jupyter-widgets/output"
          }
        },
        "2f3f523af75147e7945a21538a135de3": {
          "model_module": "@jupyter-widgets/controls",
          "model_name": "SliderStyleModel",
          "state": {
            "_view_name": "StyleView",
            "handle_color": null,
            "_model_name": "SliderStyleModel",
            "description_width": "",
            "_view_module": "@jupyter-widgets/base",
            "_model_module_version": "1.5.0",
            "_view_count": null,
            "_view_module_version": "1.2.0",
            "_model_module": "@jupyter-widgets/controls"
          }
        },
        "d875a45c7a764abf9fcddf8984f0c2b8": {
          "model_module": "@jupyter-widgets/base",
          "model_name": "LayoutModel",
          "state": {
            "_view_name": "LayoutView",
            "grid_template_rows": null,
            "right": null,
            "justify_content": null,
            "_view_module": "@jupyter-widgets/base",
            "overflow": null,
            "_model_module_version": "1.2.0",
            "_view_count": null,
            "flex_flow": null,
            "width": null,
            "min_width": null,
            "border": null,
            "align_items": null,
            "bottom": null,
            "_model_module": "@jupyter-widgets/base",
            "top": null,
            "grid_column": null,
            "overflow_y": null,
            "overflow_x": null,
            "grid_auto_flow": null,
            "grid_area": null,
            "grid_template_columns": null,
            "flex": null,
            "_model_name": "LayoutModel",
            "justify_items": null,
            "grid_row": null,
            "max_height": null,
            "align_content": null,
            "visibility": null,
            "align_self": null,
            "height": null,
            "min_height": null,
            "padding": null,
            "grid_auto_rows": null,
            "grid_gap": null,
            "max_width": null,
            "order": null,
            "_view_module_version": "1.2.0",
            "grid_template_areas": null,
            "object_position": null,
            "object_fit": null,
            "grid_auto_columns": null,
            "margin": null,
            "display": null,
            "left": null
          }
        },
        "c9b982d616ec4058926def858954d3e1": {
          "model_module": "@jupyter-widgets/controls",
          "model_name": "SliderStyleModel",
          "state": {
            "_view_name": "StyleView",
            "handle_color": null,
            "_model_name": "SliderStyleModel",
            "description_width": "",
            "_view_module": "@jupyter-widgets/base",
            "_model_module_version": "1.5.0",
            "_view_count": null,
            "_view_module_version": "1.2.0",
            "_model_module": "@jupyter-widgets/controls"
          }
        },
        "7e49700e1a474823b7be3c1229d1bc76": {
          "model_module": "@jupyter-widgets/base",
          "model_name": "LayoutModel",
          "state": {
            "_view_name": "LayoutView",
            "grid_template_rows": null,
            "right": null,
            "justify_content": null,
            "_view_module": "@jupyter-widgets/base",
            "overflow": null,
            "_model_module_version": "1.2.0",
            "_view_count": null,
            "flex_flow": null,
            "width": null,
            "min_width": null,
            "border": null,
            "align_items": null,
            "bottom": null,
            "_model_module": "@jupyter-widgets/base",
            "top": null,
            "grid_column": null,
            "overflow_y": null,
            "overflow_x": null,
            "grid_auto_flow": null,
            "grid_area": null,
            "grid_template_columns": null,
            "flex": null,
            "_model_name": "LayoutModel",
            "justify_items": null,
            "grid_row": null,
            "max_height": null,
            "align_content": null,
            "visibility": null,
            "align_self": null,
            "height": null,
            "min_height": null,
            "padding": null,
            "grid_auto_rows": null,
            "grid_gap": null,
            "max_width": null,
            "order": null,
            "_view_module_version": "1.2.0",
            "grid_template_areas": null,
            "object_position": null,
            "object_fit": null,
            "grid_auto_columns": null,
            "margin": null,
            "display": null,
            "left": null
          }
        },
        "9c60397ce438487ca51ae3bc10c34921": {
          "model_module": "@jupyter-widgets/base",
          "model_name": "LayoutModel",
          "state": {
            "_view_name": "LayoutView",
            "grid_template_rows": null,
            "right": null,
            "justify_content": null,
            "_view_module": "@jupyter-widgets/base",
            "overflow": null,
            "_model_module_version": "1.2.0",
            "_view_count": null,
            "flex_flow": null,
            "width": null,
            "min_width": null,
            "border": null,
            "align_items": null,
            "bottom": null,
            "_model_module": "@jupyter-widgets/base",
            "top": null,
            "grid_column": null,
            "overflow_y": null,
            "overflow_x": null,
            "grid_auto_flow": null,
            "grid_area": null,
            "grid_template_columns": null,
            "flex": null,
            "_model_name": "LayoutModel",
            "justify_items": null,
            "grid_row": null,
            "max_height": null,
            "align_content": null,
            "visibility": null,
            "align_self": null,
            "height": null,
            "min_height": null,
            "padding": null,
            "grid_auto_rows": null,
            "grid_gap": null,
            "max_width": null,
            "order": null,
            "_view_module_version": "1.2.0",
            "grid_template_areas": null,
            "object_position": null,
            "object_fit": null,
            "grid_auto_columns": null,
            "margin": null,
            "display": null,
            "left": null
          }
        },
        "a265fd54376145278d7b19879aa78def": {
          "model_module": "@jupyter-widgets/controls",
          "model_name": "TextModel",
          "state": {
            "_view_name": "TextView",
            "style": "IPY_MODEL_bb230c4097664574af095be1cee9d812",
            "_dom_classes": [],
            "description": "input one: ",
            "_model_name": "TextModel",
            "placeholder": "​",
            "_view_module": "@jupyter-widgets/controls",
            "_model_module_version": "1.5.0",
            "value": "one",
            "_view_count": null,
            "disabled": false,
            "_view_module_version": "1.5.0",
            "continuous_update": true,
            "description_tooltip": null,
            "_model_module": "@jupyter-widgets/controls",
            "layout": "IPY_MODEL_11b7f76bff494c34946f736c0847c868"
          }
        },
        "bb230c4097664574af095be1cee9d812": {
          "model_module": "@jupyter-widgets/controls",
          "model_name": "DescriptionStyleModel",
          "state": {
            "_view_name": "StyleView",
            "_model_name": "DescriptionStyleModel",
            "description_width": "",
            "_view_module": "@jupyter-widgets/base",
            "_model_module_version": "1.5.0",
            "_view_count": null,
            "_view_module_version": "1.2.0",
            "_model_module": "@jupyter-widgets/controls"
          }
        },
        "11b7f76bff494c34946f736c0847c868": {
          "model_module": "@jupyter-widgets/base",
          "model_name": "LayoutModel",
          "state": {
            "_view_name": "LayoutView",
            "grid_template_rows": null,
            "right": null,
            "justify_content": null,
            "_view_module": "@jupyter-widgets/base",
            "overflow": null,
            "_model_module_version": "1.2.0",
            "_view_count": null,
            "flex_flow": null,
            "width": null,
            "min_width": null,
            "border": null,
            "align_items": null,
            "bottom": null,
            "_model_module": "@jupyter-widgets/base",
            "top": null,
            "grid_column": null,
            "overflow_y": null,
            "overflow_x": null,
            "grid_auto_flow": null,
            "grid_area": null,
            "grid_template_columns": null,
            "flex": null,
            "_model_name": "LayoutModel",
            "justify_items": null,
            "grid_row": null,
            "max_height": null,
            "align_content": null,
            "visibility": null,
            "align_self": null,
            "height": null,
            "min_height": null,
            "padding": null,
            "grid_auto_rows": null,
            "grid_gap": null,
            "max_width": null,
            "order": null,
            "_view_module_version": "1.2.0",
            "grid_template_areas": null,
            "object_position": null,
            "object_fit": null,
            "grid_auto_columns": null,
            "margin": null,
            "display": null,
            "left": null
          }
        },
        "98af4f8b0e1847d2afa51ec1ef3df635": {
          "model_module": "@jupyter-widgets/controls",
          "model_name": "TextModel",
          "state": {
            "_view_name": "TextView",
            "style": "IPY_MODEL_7c5af1b14662436794596ef01f9a8de2",
            "_dom_classes": [],
            "description": "input two: ",
            "_model_name": "TextModel",
            "placeholder": "​",
            "_view_module": "@jupyter-widgets/controls",
            "_model_module_version": "1.5.0",
            "value": "two ",
            "_view_count": null,
            "disabled": false,
            "_view_module_version": "1.5.0",
            "continuous_update": true,
            "description_tooltip": null,
            "_model_module": "@jupyter-widgets/controls",
            "layout": "IPY_MODEL_cf7cd85a2eaa4fb09f605f3bbcfc4d2b"
          }
        },
        "7c5af1b14662436794596ef01f9a8de2": {
          "model_module": "@jupyter-widgets/controls",
          "model_name": "DescriptionStyleModel",
          "state": {
            "_view_name": "StyleView",
            "_model_name": "DescriptionStyleModel",
            "description_width": "",
            "_view_module": "@jupyter-widgets/base",
            "_model_module_version": "1.5.0",
            "_view_count": null,
            "_view_module_version": "1.2.0",
            "_model_module": "@jupyter-widgets/controls"
          }
        },
        "cf7cd85a2eaa4fb09f605f3bbcfc4d2b": {
          "model_module": "@jupyter-widgets/base",
          "model_name": "LayoutModel",
          "state": {
            "_view_name": "LayoutView",
            "grid_template_rows": null,
            "right": null,
            "justify_content": null,
            "_view_module": "@jupyter-widgets/base",
            "overflow": null,
            "_model_module_version": "1.2.0",
            "_view_count": null,
            "flex_flow": null,
            "width": null,
            "min_width": null,
            "border": null,
            "align_items": null,
            "bottom": null,
            "_model_module": "@jupyter-widgets/base",
            "top": null,
            "grid_column": null,
            "overflow_y": null,
            "overflow_x": null,
            "grid_auto_flow": null,
            "grid_area": null,
            "grid_template_columns": null,
            "flex": null,
            "_model_name": "LayoutModel",
            "justify_items": null,
            "grid_row": null,
            "max_height": null,
            "align_content": null,
            "visibility": null,
            "align_self": null,
            "height": null,
            "min_height": null,
            "padding": null,
            "grid_auto_rows": null,
            "grid_gap": null,
            "max_width": null,
            "order": null,
            "_view_module_version": "1.2.0",
            "grid_template_areas": null,
            "object_position": null,
            "object_fit": null,
            "grid_auto_columns": null,
            "margin": null,
            "display": null,
            "left": null
          }
        },
        "67f091ce428a49d1b22c79dfa649d77f": {
          "model_module": "@jupyter-widgets/controls",
          "model_name": "TextModel",
          "state": {
            "_view_name": "TextView",
            "style": "IPY_MODEL_3fb44b86792f45f795bc9dfa79aebdb2",
            "_dom_classes": [],
            "description": "input three: ",
            "_model_name": "TextModel",
            "placeholder": "​",
            "_view_module": "@jupyter-widgets/controls",
            "_model_module_version": "1.5.0",
            "value": "three",
            "_view_count": null,
            "disabled": false,
            "_view_module_version": "1.5.0",
            "continuous_update": true,
            "description_tooltip": null,
            "_model_module": "@jupyter-widgets/controls",
            "layout": "IPY_MODEL_2af5db5875074359b88d2c847e69571d"
          }
        },
        "3fb44b86792f45f795bc9dfa79aebdb2": {
          "model_module": "@jupyter-widgets/controls",
          "model_name": "DescriptionStyleModel",
          "state": {
            "_view_name": "StyleView",
            "_model_name": "DescriptionStyleModel",
            "description_width": "",
            "_view_module": "@jupyter-widgets/base",
            "_model_module_version": "1.5.0",
            "_view_count": null,
            "_view_module_version": "1.2.0",
            "_model_module": "@jupyter-widgets/controls"
          }
        },
        "2af5db5875074359b88d2c847e69571d": {
          "model_module": "@jupyter-widgets/base",
          "model_name": "LayoutModel",
          "state": {
            "_view_name": "LayoutView",
            "grid_template_rows": null,
            "right": null,
            "justify_content": null,
            "_view_module": "@jupyter-widgets/base",
            "overflow": null,
            "_model_module_version": "1.2.0",
            "_view_count": null,
            "flex_flow": null,
            "width": null,
            "min_width": null,
            "border": null,
            "align_items": null,
            "bottom": null,
            "_model_module": "@jupyter-widgets/base",
            "top": null,
            "grid_column": null,
            "overflow_y": null,
            "overflow_x": null,
            "grid_auto_flow": null,
            "grid_area": null,
            "grid_template_columns": null,
            "flex": null,
            "_model_name": "LayoutModel",
            "justify_items": null,
            "grid_row": null,
            "max_height": null,
            "align_content": null,
            "visibility": null,
            "align_self": null,
            "height": null,
            "min_height": null,
            "padding": null,
            "grid_auto_rows": null,
            "grid_gap": null,
            "max_width": null,
            "order": null,
            "_view_module_version": "1.2.0",
            "grid_template_areas": null,
            "object_position": null,
            "object_fit": null,
            "grid_auto_columns": null,
            "margin": null,
            "display": null,
            "left": null
          }
        },
        "2be59261f710407da50f766867aefe28": {
          "model_module": "@jupyter-widgets/controls",
          "model_name": "DropdownModel",
          "state": {
            "_options_labels": [
              "https://tfhub.dev/google/nnlm-en-dim128/2",
              "https://tfhub.dev/google/tf2-preview/nnlm-es-dim50-with-normalization/1",
              "https://tfhub.dev/google/universal-sentence-encoder/4"
            ],
            "_view_name": "DropdownView",
            "style": "IPY_MODEL_1e2b28ac5a984b60a4f14386fd49bc9f",
            "_dom_classes": [],
            "description": "Model:",
            "_model_name": "DropdownModel",
            "index": 2,
            "_view_module": "@jupyter-widgets/controls",
            "_model_module_version": "1.5.0",
            "_view_count": null,
            "disabled": false,
            "_view_module_version": "1.5.0",
            "description_tooltip": null,
            "_model_module": "@jupyter-widgets/controls",
            "layout": "IPY_MODEL_47cf76f19dca4e4a99d916829b02d14f"
          }
        },
        "1e2b28ac5a984b60a4f14386fd49bc9f": {
          "model_module": "@jupyter-widgets/controls",
          "model_name": "DescriptionStyleModel",
          "state": {
            "_view_name": "StyleView",
            "_model_name": "DescriptionStyleModel",
            "description_width": "",
            "_view_module": "@jupyter-widgets/base",
            "_model_module_version": "1.5.0",
            "_view_count": null,
            "_view_module_version": "1.2.0",
            "_model_module": "@jupyter-widgets/controls"
          }
        },
        "47cf76f19dca4e4a99d916829b02d14f": {
          "model_module": "@jupyter-widgets/base",
          "model_name": "LayoutModel",
          "state": {
            "_view_name": "LayoutView",
            "grid_template_rows": null,
            "right": null,
            "justify_content": null,
            "_view_module": "@jupyter-widgets/base",
            "overflow": null,
            "_model_module_version": "1.2.0",
            "_view_count": null,
            "flex_flow": null,
            "width": null,
            "min_width": null,
            "border": null,
            "align_items": null,
            "bottom": null,
            "_model_module": "@jupyter-widgets/base",
            "top": null,
            "grid_column": null,
            "overflow_y": null,
            "overflow_x": null,
            "grid_auto_flow": null,
            "grid_area": null,
            "grid_template_columns": null,
            "flex": null,
            "_model_name": "LayoutModel",
            "justify_items": null,
            "grid_row": null,
            "max_height": null,
            "align_content": null,
            "visibility": null,
            "align_self": null,
            "height": null,
            "min_height": null,
            "padding": null,
            "grid_auto_rows": null,
            "grid_gap": null,
            "max_width": null,
            "order": null,
            "_view_module_version": "1.2.0",
            "grid_template_areas": null,
            "object_position": null,
            "object_fit": null,
            "grid_auto_columns": null,
            "margin": null,
            "display": null,
            "left": null
          }
        },
        "2295f67b3f58484e9199e70038df8b17": {
          "model_module": "@jupyter-widgets/output",
          "model_name": "OutputModel",
          "state": {
            "_view_name": "OutputView",
            "msg_id": "",
            "_dom_classes": [],
            "_model_name": "OutputModel",
            "outputs": [
              {
                "output_type": "display_data",
                "metadata": {
                  "tags": []
                },
                "image/png": "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\n",
                "text/plain": "<Figure size 432x288 with 2 Axes>"
              }
            ],
            "_view_module": "@jupyter-widgets/output",
            "_model_module_version": "1.0.0",
            "_view_count": null,
            "_view_module_version": "1.0.0",
            "layout": "IPY_MODEL_fd2004cf98b84a6fbaabe7b8eb7b4c33",
            "_model_module": "@jupyter-widgets/output"
          }
        },
        "fd2004cf98b84a6fbaabe7b8eb7b4c33": {
          "model_module": "@jupyter-widgets/base",
          "model_name": "LayoutModel",
          "state": {
            "_view_name": "LayoutView",
            "grid_template_rows": null,
            "right": null,
            "justify_content": null,
            "_view_module": "@jupyter-widgets/base",
            "overflow": null,
            "_model_module_version": "1.2.0",
            "_view_count": null,
            "flex_flow": null,
            "width": null,
            "min_width": null,
            "border": null,
            "align_items": null,
            "bottom": null,
            "_model_module": "@jupyter-widgets/base",
            "top": null,
            "grid_column": null,
            "overflow_y": null,
            "overflow_x": null,
            "grid_auto_flow": null,
            "grid_area": null,
            "grid_template_columns": null,
            "flex": null,
            "_model_name": "LayoutModel",
            "justify_items": null,
            "grid_row": null,
            "max_height": null,
            "align_content": null,
            "visibility": null,
            "align_self": null,
            "height": null,
            "min_height": null,
            "padding": null,
            "grid_auto_rows": null,
            "grid_gap": null,
            "max_width": null,
            "order": null,
            "_view_module_version": "1.2.0",
            "grid_template_areas": null,
            "object_position": null,
            "object_fit": null,
            "grid_auto_columns": null,
            "margin": null,
            "display": null,
            "left": null
          }
        }
      }
    }
  },
  "cells": [
    {
      "cell_type": "markdown",
      "metadata": {
        "id": "view-in-github",
        "colab_type": "text"
      },
      "source": [
        "<a href=\"https://colab.research.google.com/github/Madhu317/Intro-to-TensorFlow/blob/main/tf2_workshop.ipynb\" target=\"_parent\"><img src=\"https://colab.research.google.com/assets/colab-badge.svg\" alt=\"Open In Colab\"/></a>"
      ]
    },
    {
      "cell_type": "code",
      "metadata": {
        "id": "V2iNBYbv8bp6",
        "cellView": "form",
        "outputId": "473b41a3-6309-4082-f8fd-9d16a15687a7",
        "colab": {
          "base_uri": "https://localhost:8080/"
        }
      },
      "source": [
        "#@title Install Dependencies\n",
        "#get your dependencies on\n",
        "!pip install -U kora\n",
        "#!pip install tf-nightly\n",
        "!pip install seaborn\n",
        "!pip install tensorflow_hub"
      ],
      "execution_count": null,
      "outputs": [
        {
          "output_type": "stream",
          "text": [
            "Requirement already up-to-date: kora in /usr/local/lib/python3.6/dist-packages (0.9.6)\n",
            "Requirement already satisfied, skipping upgrade: ipython in /usr/local/lib/python3.6/dist-packages (from kora) (5.5.0)\n",
            "Requirement already satisfied, skipping upgrade: fastcore in /usr/local/lib/python3.6/dist-packages (from kora) (1.3.4)\n",
            "Requirement already satisfied, skipping upgrade: simplegeneric>0.8 in /usr/local/lib/python3.6/dist-packages (from ipython->kora) (0.8.1)\n",
            "Requirement already satisfied, skipping upgrade: prompt-toolkit<2.0.0,>=1.0.4 in /usr/local/lib/python3.6/dist-packages (from ipython->kora) (1.0.18)\n",
            "Requirement already satisfied, skipping upgrade: pygments in /usr/local/lib/python3.6/dist-packages (from ipython->kora) (2.6.1)\n",
            "Requirement already satisfied, skipping upgrade: decorator in /usr/local/lib/python3.6/dist-packages (from ipython->kora) (4.4.2)\n",
            "Requirement already satisfied, skipping upgrade: pexpect; sys_platform != \"win32\" in /usr/local/lib/python3.6/dist-packages (from ipython->kora) (4.8.0)\n",
            "Requirement already satisfied, skipping upgrade: setuptools>=18.5 in /usr/local/lib/python3.6/dist-packages (from ipython->kora) (50.3.2)\n",
            "Requirement already satisfied, skipping upgrade: pickleshare in /usr/local/lib/python3.6/dist-packages (from ipython->kora) (0.7.5)\n",
            "Requirement already satisfied, skipping upgrade: traitlets>=4.2 in /usr/local/lib/python3.6/dist-packages (from ipython->kora) (4.3.3)\n",
            "Requirement already satisfied, skipping upgrade: pip in /usr/local/lib/python3.6/dist-packages (from fastcore->kora) (19.3.1)\n",
            "Requirement already satisfied, skipping upgrade: packaging in /usr/local/lib/python3.6/dist-packages (from fastcore->kora) (20.4)\n",
            "Requirement already satisfied, skipping upgrade: six>=1.9.0 in /usr/local/lib/python3.6/dist-packages (from prompt-toolkit<2.0.0,>=1.0.4->ipython->kora) (1.15.0)\n",
            "Requirement already satisfied, skipping upgrade: wcwidth in /usr/local/lib/python3.6/dist-packages (from prompt-toolkit<2.0.0,>=1.0.4->ipython->kora) (0.2.5)\n",
            "Requirement already satisfied, skipping upgrade: ptyprocess>=0.5 in /usr/local/lib/python3.6/dist-packages (from pexpect; sys_platform != \"win32\"->ipython->kora) (0.6.0)\n",
            "Requirement already satisfied, skipping upgrade: ipython-genutils in /usr/local/lib/python3.6/dist-packages (from traitlets>=4.2->ipython->kora) (0.2.0)\n",
            "Requirement already satisfied, skipping upgrade: pyparsing>=2.0.2 in /usr/local/lib/python3.6/dist-packages (from packaging->fastcore->kora) (2.4.7)\n",
            "Requirement already satisfied: seaborn in /usr/local/lib/python3.6/dist-packages (0.11.0)\n",
            "Requirement already satisfied: pandas>=0.23 in /usr/local/lib/python3.6/dist-packages (from seaborn) (1.1.4)\n",
            "Requirement already satisfied: matplotlib>=2.2 in /usr/local/lib/python3.6/dist-packages (from seaborn) (3.2.2)\n",
            "Requirement already satisfied: numpy>=1.15 in /usr/local/lib/python3.6/dist-packages (from seaborn) (1.19.4)\n",
            "Requirement already satisfied: scipy>=1.0 in /usr/local/lib/python3.6/dist-packages (from seaborn) (1.4.1)\n",
            "Requirement already satisfied: pytz>=2017.2 in /usr/local/lib/python3.6/dist-packages (from pandas>=0.23->seaborn) (2018.9)\n",
            "Requirement already satisfied: python-dateutil>=2.7.3 in /usr/local/lib/python3.6/dist-packages (from pandas>=0.23->seaborn) (2.8.1)\n",
            "Requirement already satisfied: kiwisolver>=1.0.1 in /usr/local/lib/python3.6/dist-packages (from matplotlib>=2.2->seaborn) (1.3.1)\n",
            "Requirement already satisfied: cycler>=0.10 in /usr/local/lib/python3.6/dist-packages (from matplotlib>=2.2->seaborn) (0.10.0)\n",
            "Requirement already satisfied: pyparsing!=2.0.4,!=2.1.2,!=2.1.6,>=2.0.1 in /usr/local/lib/python3.6/dist-packages (from matplotlib>=2.2->seaborn) (2.4.7)\n",
            "Requirement already satisfied: six>=1.5 in /usr/local/lib/python3.6/dist-packages (from python-dateutil>=2.7.3->pandas>=0.23->seaborn) (1.15.0)\n",
            "Requirement already satisfied: tensorflow_hub in /usr/local/lib/python3.6/dist-packages (0.10.0)\n",
            "Requirement already satisfied: numpy>=1.12.0 in /usr/local/lib/python3.6/dist-packages (from tensorflow_hub) (1.19.4)\n",
            "Requirement already satisfied: protobuf>=3.8.0 in /usr/local/lib/python3.6/dist-packages (from tensorflow_hub) (3.13.0)\n",
            "Requirement already satisfied: setuptools in /usr/local/lib/python3.6/dist-packages (from protobuf>=3.8.0->tensorflow_hub) (50.3.2)\n",
            "Requirement already satisfied: six>=1.9 in /usr/local/lib/python3.6/dist-packages (from protobuf>=3.8.0->tensorflow_hub) (1.15.0)\n"
          ],
          "name": "stdout"
        }
      ]
    },
    {
      "cell_type": "code",
      "metadata": {
        "id": "YWcxaMifgiKw",
        "outputId": "2d68d1be-2ac1-48d6-ed60-83a5e5292bd0",
        "colab": {
          "base_uri": "https://localhost:8080/"
        }
      },
      "source": [
        "from google.colab import drive\n",
        "drive.mount('/content/drive')"
      ],
      "execution_count": null,
      "outputs": [
        {
          "output_type": "stream",
          "text": [
            "Mounted at /content/drive\n"
          ],
          "name": "stdout"
        }
      ]
    },
    {
      "cell_type": "code",
      "metadata": {
        "id": "u-tdjqPjRlRV"
      },
      "source": [
        "import tensorflow as tf\n",
        "import numpy as np\n",
        "import matplotlib.pyplot as plt\n",
        "#%tensorflow_version 1.x"
      ],
      "execution_count": null,
      "outputs": []
    },
    {
      "cell_type": "code",
      "metadata": {
        "id": "1hS1JRdJTCu-",
        "outputId": "178e5ee5-dac3-4b52-83dc-abd3b9d7b649",
        "colab": {
          "base_uri": "https://localhost:8080/",
          "height": 35
        }
      },
      "source": [
        "tf.__version__"
      ],
      "execution_count": null,
      "outputs": [
        {
          "output_type": "execute_result",
          "data": {
            "application/vnd.google.colaboratory.intrinsic+json": {
              "type": "string"
            },
            "text/plain": [
              "'2.5.0-dev20201111'"
            ]
          },
          "metadata": {
            "tags": []
          },
          "execution_count": 3
        }
      ]
    },
    {
      "cell_type": "markdown",
      "metadata": {
        "id": "V5F-xtwVLydt"
      },
      "source": [
        "#Setup\n",
        "\n",
        "Alright! Before we get started let's check we have a GPU available as it'll dramatically improve our training and inference time. Mak sure that **Hardware Accelarator** option in  **Runtime - Change Runtime Type** is set to GPU.\n",
        "\n",
        "GPU's started life as single operation multiple data powerhouse. Workhorse dedicated to vector translation, rasterisation, convolutions etc It quickly became apparent in our lifetimes that the SIMD paradigm can be utilised in conjunction with Deep Learning and we're beginning to see hardware become more and more specialised as a result.\n",
        "\n",
        "Let's actually take the opportunity investigate first of all whether a GPU is available to us and also which model:\n"
      ]
    },
    {
      "cell_type": "code",
      "metadata": {
        "id": "-eSRrl1cLYeS",
        "outputId": "e1088b1c-6c49-4998-865c-af605d6a96fa",
        "colab": {
          "base_uri": "https://localhost:8080/"
        }
      },
      "source": [
        "#check wether or not we're using a GPU\n",
        "is_gpu = len(tf.config.experimental.list_physical_devices('GPU')) > 0\n",
        "print(is_gpu)"
      ],
      "execution_count": null,
      "outputs": [
        {
          "output_type": "stream",
          "text": [
            "True\n"
          ],
          "name": "stdout"
        }
      ]
    },
    {
      "cell_type": "code",
      "metadata": {
        "id": "dAb4jTVjLopt",
        "outputId": "b590c807-2422-46c5-f83c-edf094710714",
        "colab": {
          "base_uri": "https://localhost:8080/"
        }
      },
      "source": [
        "!nvidia-smi"
      ],
      "execution_count": null,
      "outputs": [
        {
          "output_type": "stream",
          "text": [
            "Thu Nov 12 11:19:37 2020       \n",
            "+-----------------------------------------------------------------------------+\n",
            "| NVIDIA-SMI 455.32.00    Driver Version: 418.67       CUDA Version: 10.1     |\n",
            "|-------------------------------+----------------------+----------------------+\n",
            "| GPU  Name        Persistence-M| Bus-Id        Disp.A | Volatile Uncorr. ECC |\n",
            "| Fan  Temp  Perf  Pwr:Usage/Cap|         Memory-Usage | GPU-Util  Compute M. |\n",
            "|                               |                      |               MIG M. |\n",
            "|===============================+======================+======================|\n",
            "|   0  Tesla P100-PCIE...  Off  | 00000000:00:04.0 Off |                    0 |\n",
            "| N/A   36C    P0    26W / 250W |     10MiB / 16280MiB |      0%      Default |\n",
            "|                               |                      |                 ERR! |\n",
            "+-------------------------------+----------------------+----------------------+\n",
            "                                                                               \n",
            "+-----------------------------------------------------------------------------+\n",
            "| Processes:                                                                  |\n",
            "|  GPU   GI   CI        PID   Type   Process name                  GPU Memory |\n",
            "|        ID   ID                                                   Usage      |\n",
            "|=============================================================================|\n",
            "|  No running processes found                                                 |\n",
            "+-----------------------------------------------------------------------------+\n"
          ],
          "name": "stdout"
        }
      ]
    },
    {
      "cell_type": "markdown",
      "metadata": {
        "id": "-d9Z3tBjN2kY"
      },
      "source": [
        "We're pretty lucky here in that Collaboratory is able to offer us Tesla K80's to work with subject to demaand. For those of you who are lucky enough to have Colab Pro, access to P100's and V100's is a dream with the latter offering a huge performance enhacement with dedicated mixed precision tensor cores."
      ]
    },
    {
      "cell_type": "markdown",
      "metadata": {
        "id": "aKTxbr-8RlST"
      },
      "source": [
        "# Our first model\n",
        "ANN's are easy to build with Keras' high-level API and a Tensorflow backend. Since Tensorflow 2 Keras has become it's official high level API. While the API provides us with a fucntional approach for advanced usage a sequential approach is also available to help visualise the layers of you nn. Let's stick with that approach for now.\n",
        "\n",
        "\n",
        "The beautiful thing about Tensorflow 2 is that is uses eager execution for a better control flow, allowing us to evaluate operations immediately instead of having to build graphs, whilst retaining the ability to do so on the fly with some handy decorators.\n",
        "\n",
        "Let's invesitgate these concepts by revisiting the XOR problem. "
      ]
    },
    {
      "cell_type": "markdown",
      "metadata": {
        "id": "UII_NTALRlTX"
      },
      "source": [
        "# The Perceptron\n",
        "\n",
        "\n",
        "\n",
        "![perceptron](https://www.simplilearn.com/ice9/free_resources_article_thumb/general-diagram-of-perceptron-for-supervised-learning.jpg)\n",
        "\n"
      ]
    },
    {
      "cell_type": "code",
      "metadata": {
        "id": "tG0yIJxx2b6o"
      },
      "source": [
        "#Heaveside step function is super simple\n",
        "def predict(X):\n",
        "        return 1 * (X > 0)\n",
        "        #return np.where(X >= 0.0, 1, 0)"
      ],
      "execution_count": null,
      "outputs": []
    },
    {
      "cell_type": "code",
      "metadata": {
        "id": "o2F0j35vTIUc"
      },
      "source": [
        "#What are these?\n",
        "X = np.array([[0, 0], [0, 1], [1,0], [1, 1]])\n",
        "\n",
        "gates = {'OR': np.array([0,1,1,1]),\n",
        "         'AND': np.array([0,0,0,1]),\n",
        "         'XOR': np.array([0,1,1,0])}"
      ],
      "execution_count": null,
      "outputs": []
    },
    {
      "cell_type": "code",
      "metadata": {
        "id": "JwZ8ulYtLKyW"
      },
      "source": [
        "#let's go sklearn!\n",
        "import numpy as np\n",
        "from sklearn.linear_model import Perceptron\n",
        "from sklearn.ensemble import RandomForestClassifier\n",
        "\n",
        "h = .02  # step size in the mesh\n",
        "perceptron = Perceptron(max_iter=1000, eta0=0.1).fit(X, gates['OR'])\n",
        "random_forest = RandomForestClassifier(random_state=1, n_estimators=100).fit(X,gates['OR'])\n"
      ],
      "execution_count": null,
      "outputs": []
    },
    {
      "cell_type": "code",
      "metadata": {
        "id": "dA0gtKyQYDeW",
        "outputId": "03c0d155-1444-4842-906b-2a42fe78f6bf",
        "colab": {
          "base_uri": "https://localhost:8080/"
        }
      },
      "source": [
        "x_min, x_max = X[:, 0].min() - 1, X[:, 0].max() + 1\n",
        "y_min, y_max = X[:, 1].min() - 1, X[:, 1].max() + 1\n",
        "xx, yy = np.meshgrid(np.arange(x_min, x_max, h),\n",
        "                      np.arange(y_min, y_max, h))\n",
        "Z = perceptron.predict(np.c_[xx.ravel(), yy.ravel()])\n",
        "\n",
        "print(Z)"
      ],
      "execution_count": null,
      "outputs": [
        {
          "output_type": "stream",
          "text": [
            "[0 0 0 ... 1 1 1]\n"
          ],
          "name": "stdout"
        }
      ]
    },
    {
      "cell_type": "code",
      "metadata": {
        "id": "t_pKDDZuPCZN"
      },
      "source": [
        "import numpy as np\n",
        "from sklearn.linear_model import Perceptron\n",
        "from sklearn.ensemble import RandomForestClassifier\n",
        "import matplotlib.pyplot as plt\n",
        "\n",
        "\n",
        "\n",
        "def plot_decision(X,y,model,size =(8,8), output_class = False):\n",
        "  \n",
        "  if model == 'perceptron':\n",
        "    model = Perceptron(max_iter=1000, eta0=0.1).fit(X,y)\n",
        "\n",
        "  elif model == 'random forest':\n",
        "    model = RandomForestClassifier(random_state=1, n_estimators=100).fit(X,y)\n",
        " \n",
        "\n",
        " \n",
        "  h = .02  # step size in the mesh\n",
        "  x_min, x_max = X[:, 0].min() - 1, X[:, 0].max() + 1\n",
        "  y_min, y_max = X[:, 1].min() - 1, X[:, 1].max() + 1\n",
        "  xx, yy = np.meshgrid(np.arange(x_min, x_max, h),\n",
        "                      np.arange(y_min, y_max, h))\n",
        "\n",
        "  fig, ax = plt.subplots(figsize=size)\n",
        "  Z = model.predict(np.c_[xx.ravel(), yy.ravel()])\n",
        "  #print(Z)\n",
        "  \n",
        "  if output_class:\n",
        "    Z = Z >0.5\n",
        "\n",
        "  # Put the result into a color plot\n",
        "  Z = Z.reshape(xx.shape)\n",
        "  ax.contourf(xx, yy, Z)\n",
        "  ax.axis('on')\n",
        "\n",
        "  # Plot also the training points\n",
        "  ax.scatter(X[:, 0], X[:, 1], c=y, cmap=plt.cm.Paired)\n",
        "  plt.show()"
      ],
      "execution_count": null,
      "outputs": []
    },
    {
      "cell_type": "code",
      "metadata": {
        "id": "buJL_Wd4DCmo",
        "outputId": "ea95409f-ebe4-4ef7-f2dd-58435240dad1",
        "colab": {
          "base_uri": "https://localhost:8080/",
          "height": 545,
          "referenced_widgets": [
            "22e5df9e95eb4813b02cdbcffc0036ec",
            "ad3b7971e3744ad5904b91c5a84521bb",
            "ba09ce2f5fe24b8399d5fa86a3e1ae9f",
            "446bc6790d7d4792891f449818515e88",
            "515e1850c0164bf4a2bd74e2703b0f13",
            "4c3c835435504752903e5855438663ad",
            "1601447f90e44be8a71dedd66747dd11",
            "b04cbdc8a56b4ec5a2a51aa2ff973b2c"
          ]
        }
      },
      "source": [
        "import ipywidgets as widgets\n",
        "from IPython.display import display, clear_output\n",
        "\n",
        "gate = widgets.Dropdown(\n",
        "    options=['OR','AND', 'XOR'],\n",
        "    description='Choose data:',\n",
        ")\n",
        "\n",
        "model = widgets.Dropdown(\n",
        "    options=['perceptron', 'random forest'],\n",
        "    description='Choose data:',\n",
        ")\n",
        "\n",
        "out = widgets.Output()\n",
        "\n",
        "def on_change(change):\n",
        "    #print(change.new)\n",
        "    with out:\n",
        "      clear_output()\n",
        "      plot_decision(X,gates[change.new],model.value)\n",
        "\n",
        "\n",
        "\n",
        "#model.observe(on_change, names='value')\n",
        "gate.observe(on_change, names='value')\n",
        "\n",
        "display(gate)\n",
        "display(model)\n",
        "display(out)\n"
      ],
      "execution_count": null,
      "outputs": [
        {
          "output_type": "display_data",
          "data": {
            "application/vnd.jupyter.widget-view+json": {
              "model_id": "22e5df9e95eb4813b02cdbcffc0036ec",
              "version_minor": 0,
              "version_major": 2
            },
            "text/plain": [
              "Dropdown(description='Choose data:', options=('OR', 'AND', 'XOR'), value='OR')"
            ]
          },
          "metadata": {
            "tags": []
          }
        },
        {
          "output_type": "display_data",
          "data": {
            "application/vnd.jupyter.widget-view+json": {
              "model_id": "446bc6790d7d4792891f449818515e88",
              "version_minor": 0,
              "version_major": 2
            },
            "text/plain": [
              "Dropdown(description='Choose data:', options=('perceptron', 'random forest'), value='perceptron')"
            ]
          },
          "metadata": {
            "tags": []
          }
        },
        {
          "output_type": "display_data",
          "data": {
            "application/vnd.jupyter.widget-view+json": {
              "model_id": "1601447f90e44be8a71dedd66747dd11",
              "version_minor": 0,
              "version_major": 2
            },
            "text/plain": [
              "Output()"
            ]
          },
          "metadata": {
            "tags": []
          }
        }
      ]
    },
    {
      "cell_type": "markdown",
      "metadata": {
        "id": "ogbHhGWCOcJh"
      },
      "source": [
        "#Fully connected shallow networks\n",
        "\n",
        "![shallow](https://i.stack.imgur.com/BVZro.png)"
      ]
    },
    {
      "cell_type": "markdown",
      "metadata": {
        "id": "71T07tZuQbYp"
      },
      "source": [
        "As mentioned earlier it has become pretty easy to work with Tensorflow on the fly without a pre-defined graph. Let's take a look!"
      ]
    },
    {
      "cell_type": "code",
      "metadata": {
        "id": "wlUmg5SbvTjl"
      },
      "source": [
        "x = tf.constant([[123],[456]])"
      ],
      "execution_count": null,
      "outputs": []
    },
    {
      "cell_type": "code",
      "metadata": {
        "id": "NRLSslt7vejW",
        "outputId": "fea48660-04de-4298-f536-27557feb74da",
        "colab": {
          "base_uri": "https://localhost:8080/"
        }
      },
      "source": [
        "print(x)s "
      ],
      "execution_count": null,
      "outputs": [
        {
          "output_type": "stream",
          "text": [
            "tf.Tensor(\n",
            "[[123]\n",
            " [456]], shape=(2, 1), dtype=int32)\n"
          ],
          "name": "stdout"
        }
      ]
    },
    {
      "cell_type": "code",
      "metadata": {
        "id": "j9gtFZrdv0W8"
      },
      "source": [
        "x = tf.zeros((3,2))"
      ],
      "execution_count": null,
      "outputs": []
    },
    {
      "cell_type": "code",
      "metadata": {
        "id": "BINzPT0Iv-8o",
        "outputId": "952ce475-e90a-47b7-a2d0-f4ac560c3696",
        "colab": {
          "base_uri": "https://localhost:8080/"
        }
      },
      "source": [
        "print(x)"
      ],
      "execution_count": null,
      "outputs": [
        {
          "output_type": "stream",
          "text": [
            "tf.Tensor(\n",
            "[[0. 0.]\n",
            " [0. 0.]\n",
            " [0. 0.]], shape=(3, 2), dtype=float32)\n"
          ],
          "name": "stdout"
        }
      ]
    },
    {
      "cell_type": "code",
      "metadata": {
        "id": "gp_zey3uSVeZ"
      },
      "source": [
        "#Let's create some dummy data\n"
      ],
      "execution_count": null,
      "outputs": []
    },
    {
      "cell_type": "code",
      "metadata": {
        "id": "1fFthRQRSaep"
      },
      "source": [
        "#Weights and bias\n"
      ],
      "execution_count": null,
      "outputs": []
    },
    {
      "cell_type": "markdown",
      "metadata": {
        "id": "b044CO3lQxwm"
      },
      "source": [
        "Despite  we're still able to covert a custom function to it's graph representation with the super handy `@tf.function` decorator. Enabling a speedup with custom code. Any ideas how we'd go about creating a standard Dense layer given what we know about perceptrons?\n",
        "\n",
        "**hint** - I'll get you started with `tf.matmul`"
      ]
    },
    {
      "cell_type": "code",
      "metadata": {
        "id": "a-Mcw1VaQwRl"
      },
      "source": [
        "#your code here\n"
      ],
      "execution_count": null,
      "outputs": []
    },
    {
      "cell_type": "code",
      "metadata": {
        "id": "5z_FZuvHchEA"
      },
      "source": [
        "#vanilla\n"
      ],
      "execution_count": null,
      "outputs": []
    },
    {
      "cell_type": "code",
      "metadata": {
        "id": "0KMf3xD9cbMS",
        "outputId": "02b7c52d-9ad4-4de6-938b-60a766299524",
        "colab": {
          "base_uri": "https://localhost:8080/"
        }
      },
      "source": [
        "%%time\n",
        "dense_layer(X, w1, b1)\n"
      ],
      "execution_count": null,
      "outputs": [
        {
          "output_type": "stream",
          "text": [
            "1000 loops, best of 3: 370 µs per loop\n"
          ],
          "name": "stdout"
        }
      ]
    },
    {
      "cell_type": "code",
      "metadata": {
        "id": "Py8xr1LJct4h",
        "outputId": "758c2935-040a-4459-afad-0c787d92f47d",
        "colab": {
          "base_uri": "https://localhost:8080/"
        }
      },
      "source": [
        "%%time\n",
        "dense_layer_vanilla(X, w1, b1)"
      ],
      "execution_count": null,
      "outputs": [
        {
          "output_type": "stream",
          "text": [
            "1000 loops, best of 3: 403 µs per loop\n"
          ],
          "name": "stdout"
        }
      ]
    },
    {
      "cell_type": "code",
      "metadata": {
        "id": "RrsIrrBrTMC_"
      },
      "source": [
        "#Relu\n"
      ],
      "execution_count": null,
      "outputs": []
    },
    {
      "cell_type": "code",
      "metadata": {
        "id": "qyakfkw0_1uj"
      },
      "source": [
        "#@title Activation functions\n",
        "%matplotlib inline\n",
        "\n",
        "import numpy as np\n",
        "import matplotlib.pyplot as plt\n",
        "\n",
        "import seaborn as sns; sns.set()\n",
        "z = np.arange(-10, 10, .1)\n",
        "zero = np.zeros(len(z))\n",
        "\n",
        "\n",
        "y = np.max([zero, z], axis=0)\n",
        "\n",
        "fig = plt.figure()\n",
        "ax = fig.add_subplot(111)\n",
        "ax.plot(z, y)\n",
        "ax.set_ylim([-10, 10.0])\n",
        "ax.set_xlim([-10, 10.0])\n",
        "ax.grid(True)\n",
        "\n",
        "ax.set_title('Rectified linear unit')\n",
        "\n",
        "plt.show()\n"
      ],
      "execution_count": null,
      "outputs": []
    },
    {
      "cell_type": "code",
      "metadata": {
        "id": "r4XjSIrX_8NB"
      },
      "source": [
        "import math\n",
        "\n",
        "import matplotlib.pyplot as plt\n",
        "import numpy as np\n",
        "\n",
        "x = np.arange(-10., 10., 0.2)\n",
        "\n",
        "sigmoid  = [1/(1+math.exp(-i))for i in x]\n",
        "\n",
        "ax = sns.lineplot(x=x, y=sigmoid)\n",
        "ax.set_title('Sigmoid')\n",
        "\n",
        "plt.show()"
      ],
      "execution_count": null,
      "outputs": []
    },
    {
      "cell_type": "markdown",
      "metadata": {
        "id": "AeAGv7-RdNsT"
      },
      "source": [
        "Let's move with using the high-level api for now but we'll revisit this notion later when we import modules from Tensorflow Hub "
      ]
    },
    {
      "cell_type": "code",
      "metadata": {
        "id": "eQQFcNK-kL-5"
      },
      "source": [
        "#Our first neural net!"
      ],
      "execution_count": null,
      "outputs": []
    },
    {
      "cell_type": "code",
      "metadata": {
        "id": "6Q3STPgyiSgC"
      },
      "source": [
        "y = gates['XOR']"
      ],
      "execution_count": null,
      "outputs": []
    },
    {
      "cell_type": "code",
      "metadata": {
        "id": "PxyA8hKzwiFZ"
      },
      "source": [
        "mlp = tf.keras.Sequential()"
      ],
      "execution_count": null,
      "outputs": []
    },
    {
      "cell_type": "code",
      "metadata": {
        "id": "nC87QZzVw-tg"
      },
      "source": [
        "#Broken, care to fix it?\n",
        "mlp.add(tf.keras.layers.Dense(16, input_dim=2, activation='relu'))\n",
        "mlp.add(tf.keras.layers.Dense(1, activation='sigmoid'))"
      ],
      "execution_count": null,
      "outputs": []
    },
    {
      "cell_type": "code",
      "metadata": {
        "id": "XEK0XwyryJ6p"
      },
      "source": [
        "mlp.compile(\n",
        "    optimizer=tf.keras.optimizers.SGD(),\n",
        "    loss='binary_crossentropy',\n",
        "    metrics=['accuracy']\n",
        "    \n",
        ")"
      ],
      "execution_count": null,
      "outputs": []
    },
    {
      "cell_type": "code",
      "metadata": {
        "id": "PrrVEFsGzkIj"
      },
      "source": [
        "history = mlp.fit(X, y, batch_size=1, epochs=400, verbose=0)"
      ],
      "execution_count": null,
      "outputs": []
    },
    {
      "cell_type": "code",
      "metadata": {
        "id": "j5i6KiXB0pUq",
        "outputId": "658107eb-6438-478a-a373-e688c40801d6",
        "colab": {
          "base_uri": "https://localhost:8080/"
        }
      },
      "source": [
        "(mlp.predict(X) > 0.5).astype('int32')"
      ],
      "execution_count": null,
      "outputs": [
        {
          "output_type": "execute_result",
          "data": {
            "text/plain": [
              "array([[0],\n",
              "       [1],\n",
              "       [1],\n",
              "       [0]], dtype=int32)"
            ]
          },
          "metadata": {
            "tags": []
          },
          "execution_count": 39
        }
      ]
    },
    {
      "cell_type": "code",
      "metadata": {
        "id": "byRMKprs1sTw",
        "outputId": "3db243aa-4f9d-49df-b265-e10824c6a24c",
        "colab": {
          "base_uri": "https://localhost:8080/",
          "height": 483
        }
      },
      "source": [
        "plot_decision(X,y,mlp, output_class=True)"
      ],
      "execution_count": null,
      "outputs": [
        {
          "output_type": "display_data",
          "data": {
            "image/png": "[encoded data removed]",
            "text/plain": [
              "<Figure size 576x576 with 1 Axes>"
            ]
          },
          "metadata": {
            "tags": [],
            "needs_background": "light"
          }
        }
      ]
    },
    {
      "cell_type": "markdown",
      "metadata": {
        "id": "HpXVzUawWKme"
      },
      "source": [
        "# Now it's your turn!\n",
        "\n",
        "- I've provide you with your data here  - again a binary classification problem but one that'll really take advantage of an mlp's ability to navigate difficult shaped data."
      ]
    },
    {
      "cell_type": "code",
      "metadata": {
        "id": "GHVehugg17K6"
      },
      "source": [
        "from sklearn.datasets import make_circles\n",
        "\n",
        "X, targets = make_circles(n_samples = 1000, factor=0.1)\n",
        "X_train = X[250:, :]\n",
        "X_test = X[:250, :]\n",
        "y_train = targets[250:]\n",
        "y_test = targets[:250]\n",
        "\n",
        "feature_vector = len(X_train[0])\n",
        "input_shape = (feature_vector,)"
      ],
      "execution_count": null,
      "outputs": []
    },
    {
      "cell_type": "code",
      "metadata": {
        "id": "Cx8lNqgL3If4"
      },
      "source": [
        "#Your code here \n"
      ],
      "execution_count": null,
      "outputs": []
    },
    {
      "cell_type": "code",
      "metadata": {
        "id": "m__Wyz3y4bL5",
        "outputId": "7e4f8fd5-c87d-45d4-94a8-5f33b1a87e7f",
        "colab": {
          "base_uri": "https://localhost:8080/",
          "height": 483
        }
      },
      "source": [
        "plot_decision(X_test,y_test,circles, output_class=False)"
      ],
      "execution_count": null,
      "outputs": [
        {
          "output_type": "display_data",
          "data": {
            "image/png": "[encoded data removed]",
            "text/plain": [
              "<Figure size 576x576 with 1 Axes>"
            ]
          },
          "metadata": {
            "tags": [],
            "needs_background": "light"
          }
        }
      ]
    },
    {
      "cell_type": "code",
      "metadata": {
        "id": "bVgt73zZUavk"
      },
      "source": [
        "#What about the functional API?\n",
        "\n"
      ],
      "execution_count": null,
      "outputs": []
    },
    {
      "cell_type": "markdown",
      "metadata": {
        "id": "bfumW_r9dW1I"
      },
      "source": [
        "#More data please!"
      ]
    },
    {
      "cell_type": "code",
      "metadata": {
        "id": "mbQiVqP-6neL"
      },
      "source": [
        "#mnist \n",
        "\n",
        "(X_train, y_train), (X_test, y_test) = tf.keras.datasets.mnist.load_data()\n",
        "\n"
      ],
      "execution_count": null,
      "outputs": []
    },
    {
      "cell_type": "code",
      "metadata": {
        "id": "zG5Audr6OZWJ",
        "outputId": "130ca9e8-37bb-4704-d270-b6d7bd590a22",
        "colab": {
          "base_uri": "https://localhost:8080/"
        }
      },
      "source": [
        "X_train[0]"
      ],
      "execution_count": null,
      "outputs": [
        {
          "output_type": "execute_result",
          "data": {
            "text/plain": [
              "array([[  0,   0,   0,   0,   0,   0,   0,   0,   0,   0,   0,   0,   0,\n",
              "          0,   0,   0,   0,   0,   0,   0,   0,   0,   0,   0,   0,   0,\n",
              "          0,   0],\n",
              "       [  0,   0,   0,   0,   0,   0,   0,   0,   0,   0,   0,   0,   0,\n",
              "          0,   0,   0,   0,   0,   0,   0,   0,   0,   0,   0,   0,   0,\n",
              "          0,   0],\n",
              "       [  0,   0,   0,   0,   0,   0,   0,   0,   0,   0,   0,   0,   0,\n",
              "          0,   0,   0,   0,   0,   0,   0,   0,   0,   0,   0,   0,   0,\n",
              "          0,   0],\n",
              "       [  0,   0,   0,   0,   0,   0,   0,   0,   0,   0,   0,   0,   0,\n",
              "          0,   0,   0,   0,   0,   0,   0,   0,   0,   0,   0,   0,   0,\n",
              "          0,   0],\n",
              "       [  0,   0,   0,   0,   0,   0,   0,   0,   0,   0,   0,   0,   0,\n",
              "          0,   0,   0,   0,   0,   0,   0,   0,   0,   0,   0,   0,   0,\n",
              "          0,   0],\n",
              "       [  0,   0,   0,   0,   0,   0,   0,   0,   0,   0,   0,   0,   3,\n",
              "         18,  18,  18, 126, 136, 175,  26, 166, 255, 247, 127,   0,   0,\n",
              "          0,   0],\n",
              "       [  0,   0,   0,   0,   0,   0,   0,   0,  30,  36,  94, 154, 170,\n",
              "        253, 253, 253, 253, 253, 225, 172, 253, 242, 195,  64,   0,   0,\n",
              "          0,   0],\n",
              "       [  0,   0,   0,   0,   0,   0,   0,  49, 238, 253, 253, 253, 253,\n",
              "        253, 253, 253, 253, 251,  93,  82,  82,  56,  39,   0,   0,   0,\n",
              "          0,   0],\n",
              "       [  0,   0,   0,   0,   0,   0,   0,  18, 219, 253, 253, 253, 253,\n",
              "        253, 198, 182, 247, 241,   0,   0,   0,   0,   0,   0,   0,   0,\n",
              "          0,   0],\n",
              "       [  0,   0,   0,   0,   0,   0,   0,   0,  80, 156, 107, 253, 253,\n",
              "        205,  11,   0,  43, 154,   0,   0,   0,   0,   0,   0,   0,   0,\n",
              "          0,   0],\n",
              "       [  0,   0,   0,   0,   0,   0,   0,   0,   0,  14,   1, 154, 253,\n",
              "         90,   0,   0,   0,   0,   0,   0,   0,   0,   0,   0,   0,   0,\n",
              "          0,   0],\n",
              "       [  0,   0,   0,   0,   0,   0,   0,   0,   0,   0,   0, 139, 253,\n",
              "        190,   2,   0,   0,   0,   0,   0,   0,   0,   0,   0,   0,   0,\n",
              "          0,   0],\n",
              "       [  0,   0,   0,   0,   0,   0,   0,   0,   0,   0,   0,  11, 190,\n",
              "        253,  70,   0,   0,   0,   0,   0,   0,   0,   0,   0,   0,   0,\n",
              "          0,   0],\n",
              "       [  0,   0,   0,   0,   0,   0,   0,   0,   0,   0,   0,   0,  35,\n",
              "        241, 225, 160, 108,   1,   0,   0,   0,   0,   0,   0,   0,   0,\n",
              "          0,   0],\n",
              "       [  0,   0,   0,   0,   0,   0,   0,   0,   0,   0,   0,   0,   0,\n",
              "         81, 240, 253, 253, 119,  25,   0,   0,   0,   0,   0,   0,   0,\n",
              "          0,   0],\n",
              "       [  0,   0,   0,   0,   0,   0,   0,   0,   0,   0,   0,   0,   0,\n",
              "          0,  45, 186, 253, 253, 150,  27,   0,   0,   0,   0,   0,   0,\n",
              "          0,   0],\n",
              "       [  0,   0,   0,   0,   0,   0,   0,   0,   0,   0,   0,   0,   0,\n",
              "          0,   0,  16,  93, 252, 253, 187,   0,   0,   0,   0,   0,   0,\n",
              "          0,   0],\n",
              "       [  0,   0,   0,   0,   0,   0,   0,   0,   0,   0,   0,   0,   0,\n",
              "          0,   0,   0,   0, 249, 253, 249,  64,   0,   0,   0,   0,   0,\n",
              "          0,   0],\n",
              "       [  0,   0,   0,   0,   0,   0,   0,   0,   0,   0,   0,   0,   0,\n",
              "          0,  46, 130, 183, 253, 253, 207,   2,   0,   0,   0,   0,   0,\n",
              "          0,   0],\n",
              "       [  0,   0,   0,   0,   0,   0,   0,   0,   0,   0,   0,   0,  39,\n",
              "        148, 229, 253, 253, 253, 250, 182,   0,   0,   0,   0,   0,   0,\n",
              "          0,   0],\n",
              "       [  0,   0,   0,   0,   0,   0,   0,   0,   0,   0,  24, 114, 221,\n",
              "        253, 253, 253, 253, 201,  78,   0,   0,   0,   0,   0,   0,   0,\n",
              "          0,   0],\n",
              "       [  0,   0,   0,   0,   0,   0,   0,   0,  23,  66, 213, 253, 253,\n",
              "        253, 253, 198,  81,   2,   0,   0,   0,   0,   0,   0,   0,   0,\n",
              "          0,   0],\n",
              "       [  0,   0,   0,   0,   0,   0,  18, 171, 219, 253, 253, 253, 253,\n",
              "        195,  80,   9,   0,   0,   0,   0,   0,   0,   0,   0,   0,   0,\n",
              "          0,   0],\n",
              "       [  0,   0,   0,   0,  55, 172, 226, 253, 253, 253, 253, 244, 133,\n",
              "         11,   0,   0,   0,   0,   0,   0,   0,   0,   0,   0,   0,   0,\n",
              "          0,   0],\n",
              "       [  0,   0,   0,   0, 136, 253, 253, 253, 212, 135, 132,  16,   0,\n",
              "          0,   0,   0,   0,   0,   0,   0,   0,   0,   0,   0,   0,   0,\n",
              "          0,   0],\n",
              "       [  0,   0,   0,   0,   0,   0,   0,   0,   0,   0,   0,   0,   0,\n",
              "          0,   0,   0,   0,   0,   0,   0,   0,   0,   0,   0,   0,   0,\n",
              "          0,   0],\n",
              "       [  0,   0,   0,   0,   0,   0,   0,   0,   0,   0,   0,   0,   0,\n",
              "          0,   0,   0,   0,   0,   0,   0,   0,   0,   0,   0,   0,   0,\n",
              "          0,   0],\n",
              "       [  0,   0,   0,   0,   0,   0,   0,   0,   0,   0,   0,   0,   0,\n",
              "          0,   0,   0,   0,   0,   0,   0,   0,   0,   0,   0,   0,   0,\n",
              "          0,   0]], dtype=uint8)"
            ]
          },
          "metadata": {
            "tags": []
          },
          "execution_count": 53
        }
      ]
    },
    {
      "cell_type": "code",
      "metadata": {
        "id": "cyuMzfgBOlFD",
        "outputId": "ac714ca6-926b-4b08-813f-4a7e762730ee",
        "colab": {
          "base_uri": "https://localhost:8080/",
          "height": 285
        }
      },
      "source": [
        "plt.imshow(X_train[0])"
      ],
      "execution_count": null,
      "outputs": [
        {
          "output_type": "execute_result",
          "data": {
            "text/plain": [
              "<matplotlib.image.AxesImage at 0x7fde23d9e4e0>"
            ]
          },
          "metadata": {
            "tags": []
          },
          "execution_count": 54
        },
        {
          "output_type": "display_data",
          "data": {
            "image/png": "[encoded data removed]",
            "text/plain": [
              "<Figure size 432x288 with 1 Axes>"
            ]
          },
          "metadata": {
            "tags": []
          }
        }
      ]
    },
    {
      "cell_type": "markdown",
      "metadata": {
        "id": "gO0YkBUxbZ38"
      },
      "source": [
        "We can think of digital images as the discrete pixel intensity at a specific  pixel location - **I(x,y)** Let's visualise it in 3D to get a better idea!"
      ]
    },
    {
      "cell_type": "code",
      "metadata": {
        "id": "NttKpnNxVr7l"
      },
      "source": [
        "import cv2\n",
        "\n",
        "image = X_train[0]\n",
        "inception = cv2.imread('/content/drive/My Drive/testing ground/toronto-ml/intro-to-tf2/images/inception2.jpg')\n",
        "gray = cv2.cvtColor(inception, cv2.COLOR_BGR2GRAY)"
      ],
      "execution_count": null,
      "outputs": []
    },
    {
      "cell_type": "code",
      "metadata": {
        "id": "wsgw6ORiYKIh"
      },
      "source": [
        "from __future__ import print_function\n",
        "from ipywidgets import interact, interactive, fixed, interact_manual\n",
        "import ipywidgets as widgets\n",
        "from IPython.display import display\n",
        "\n",
        "def plot_3d(a,b, pic):\n",
        "\n",
        "  xx, yy = np.mgrid[0:pic.shape[0], 0:pic.shape[1]]\n",
        "  fig = plt.figure(figsize=(10,10))\n",
        "  ax = fig.gca(projection='3d')\n",
        "  ax.plot_surface(xx, yy, pic ,rstride=1, cstride=1, cmap=plt.cm.gray,linewidth=0.01)\n",
        "  ax.view_init(a, b)\n",
        "\n",
        "  plt.show()\n",
        "\n",
        "\n",
        "def f(a, b, pic):\n",
        "    plot_3d(a,b, pic)\n",
        "    "
      ],
      "execution_count": null,
      "outputs": []
    },
    {
      "cell_type": "code",
      "metadata": {
        "id": "-PDImDm0YbtO",
        "outputId": "f88e1a88-69b6-457e-d34e-a686a1648ed7",
        "colab": {
          "base_uri": "https://localhost:8080/",
          "height": 639,
          "referenced_widgets": [
            "eae5cf0516334b6e852160fa7d150950",
            "b64f7cfb362b416fa735bc38fba88896",
            "53cfd972f89b48f0aa4d3d9bbe8c02fb",
            "dcab482004084acaba052d4ae7e5047f",
            "632fd1b7319e43b390c7027f32e041f3",
            "f78b7349ff114269a6d5d03e556af9a8",
            "001fd6a099d44e98b36503a37854ed72",
            "f690f834d24d4106b24f3671341a5ab9",
            "9ad8a8e4c5734143991d7462c79f8229",
            "b986fa8dfcb24974b3631af0be82f4b6"
          ]
        }
      },
      "source": [
        "inception = interactive(f,pic=widgets.fixed(gray), a=80, b=30)\n",
        "display(inception)"
      ],
      "execution_count": null,
      "outputs": [
        {
          "output_type": "display_data",
          "data": {
            "application/vnd.jupyter.widget-view+json": {
              "model_id": "eae5cf0516334b6e852160fa7d150950",
              "version_minor": 0,
              "version_major": 2
            },
            "text/plain": [
              "interactive(children=(IntSlider(value=80, description='a', max=240, min=-80), IntSlider(value=30, description=…"
            ]
          },
          "metadata": {
            "tags": []
          }
        }
      ]
    },
    {
      "cell_type": "code",
      "metadata": {
        "id": "ZfubVGNLnV8I",
        "outputId": "50d9c5c7-f8b1-4e1f-8c1c-9b927b80c5c7",
        "colab": {
          "base_uri": "https://localhost:8080/",
          "height": 639,
          "referenced_widgets": [
            "4b60b9c6b8ea455faeaa0782aeb3976d",
            "3cd0c5c792854b3e9919914b48c51b71",
            "a104340d996848af9a2a67d7b4c395e4",
            "1f6c26e75f434a88a365d53fad82e4c4",
            "91fbe0ba283e4e81aa1cc5f6123c228d",
            "2f3f523af75147e7945a21538a135de3",
            "d875a45c7a764abf9fcddf8984f0c2b8",
            "c9b982d616ec4058926def858954d3e1",
            "7e49700e1a474823b7be3c1229d1bc76",
            "9c60397ce438487ca51ae3bc10c34921"
          ]
        }
      },
      "source": [
        "mnist = interactive(f,pic=widgets.fixed(image), a=80, b=30)\n",
        "display(mnist)"
      ],
      "execution_count": null,
      "outputs": [
        {
          "output_type": "display_data",
          "data": {
            "application/vnd.jupyter.widget-view+json": {
              "model_id": "4b60b9c6b8ea455faeaa0782aeb3976d",
              "version_minor": 0,
              "version_major": 2
            },
            "text/plain": [
              "interactive(children=(IntSlider(value=80, description='a', max=240, min=-80), IntSlider(value=30, description=…"
            ]
          },
          "metadata": {
            "tags": []
          }
        }
      ]
    },
    {
      "cell_type": "code",
      "metadata": {
        "id": "dBQkNywxjZiq"
      },
      "source": [
        ""
      ],
      "execution_count": null,
      "outputs": []
    },
    {
      "cell_type": "markdown",
      "metadata": {
        "id": "waGXiBhinYWp"
      },
      "source": [
        "To classify inception posters or indeed specific objects regardless of the context of the poster we'd need something a little more complex like a convolutional neural network but for now let's look at how we can tackle something a little simpler and visit the classic mnist handwriting dataset"
      ]
    },
    {
      "cell_type": "code",
      "metadata": {
        "id": "x43A1ZblUfkn",
        "outputId": "4833594b-30c2-4835-bb59-2f16e6e9e3ae",
        "colab": {
          "base_uri": "https://localhost:8080/"
        }
      },
      "source": [
        "X_train[0].shape"
      ],
      "execution_count": null,
      "outputs": [
        {
          "output_type": "execute_result",
          "data": {
            "text/plain": [
              "(28, 28)"
            ]
          },
          "metadata": {
            "tags": []
          },
          "execution_count": 56
        }
      ]
    },
    {
      "cell_type": "code",
      "metadata": {
        "id": "M1YZd43J50fG"
      },
      "source": [
        "#Can you normalise the images and why do we go about doing this?\n"
      ],
      "execution_count": null,
      "outputs": []
    },
    {
      "cell_type": "code",
      "metadata": {
        "id": "C7Cf_AGS5XpZ"
      },
      "source": [
        "#How about reshaping?\n"
      ],
      "execution_count": null,
      "outputs": []
    },
    {
      "cell_type": "code",
      "metadata": {
        "id": "io7-_b6p5v4k",
        "outputId": "5a3154fa-0926-4813-f138-5b2b00e90de5",
        "colab": {
          "base_uri": "https://localhost:8080/"
        }
      },
      "source": [
        "train_images[0].shape"
      ],
      "execution_count": null,
      "outputs": [
        {
          "output_type": "execute_result",
          "data": {
            "text/plain": [
              "(784,)"
            ]
          },
          "metadata": {
            "tags": []
          },
          "execution_count": 13
        }
      ]
    },
    {
      "cell_type": "markdown",
      "metadata": {
        "id": "q8pkJ7rSq-Sq"
      },
      "source": [
        "Now it's over to you!\n",
        "\n",
        "- Hints - you can avoid having to one hot encode your labels by using sparse catergorical as you loss.\n",
        "- What about our last layer? Last time we were dealing with a binary classifiction problem so where are we headed here?\n",
        "-let's also try implementing callbacks to help save time and resources with the sample code below:"
      ]
    },
    {
      "cell_type": "code",
      "metadata": {
        "id": "qdQ8o82YM0vI"
      },
      "source": [
        "path = '/content/drive/My Drive/testing ground/toronto-ml/intro-to-tf2/models'\n",
        "\n",
        "es = tf.keras.callbacks.EarlyStopping(monitor='val_loss', mode='min', verbose=1, patience=5)\n",
        "ms = tf.keras.callbacks.ModelCheckpoint(\n",
        "    filepath=path,\n",
        "    monitor='val_loss',\n",
        "    mode='min',\n",
        "    save_best_only=True)"
      ],
      "execution_count": null,
      "outputs": []
    },
    {
      "cell_type": "code",
      "metadata": {
        "id": "s-RxPL506Jdb"
      },
      "source": [
        "#your code here \n"
      ],
      "execution_count": null,
      "outputs": []
    },
    {
      "cell_type": "code",
      "metadata": {
        "id": "6c-VYTpyvfQK"
      },
      "source": [
        "history.history"
      ],
      "execution_count": null,
      "outputs": []
    },
    {
      "cell_type": "code",
      "metadata": {
        "id": "elWj9wFPvbyw",
        "outputId": "6031fe09-679d-45d2-ae7f-0d87290944db",
        "colab": {
          "base_uri": "https://localhost:8080/",
          "height": 573
        }
      },
      "source": [
        "plt.plot(history.history['accuracy'])\n",
        "plt.plot(history.history['val_accuracy'])\n",
        "plt.title('model accuracy')\n",
        "plt.ylabel('accuracy')\n",
        "plt.xlabel('epoch')\n",
        "plt.legend(['train', 'test'], loc='upper left')\n",
        "plt.show()\n",
        "# summarize history for loss\n",
        "plt.plot(history.history['loss'])\n",
        "plt.plot(history.history['val_loss'])\n",
        "plt.title('model loss')\n",
        "plt.ylabel('loss')\n",
        "plt.xlabel('epoch')\n",
        "plt.legend(['train', 'test'], loc='upper left')\n",
        "plt.show()"
      ],
      "execution_count": null,
      "outputs": [
        {
          "output_type": "display_data",
          "data": {
            "image/png": "[encoded data removed]",
            "text/plain": [
              "<Figure size 432x288 with 1 Axes>"
            ]
          },
          "metadata": {
            "tags": [],
            "needs_background": "light"
          }
        },
        {
          "output_type": "display_data",
          "data": {
            "image/png": "[encoded data removed]",
            "text/plain": [
              "<Figure size 432x288 with 1 Axes>"
            ]
          },
          "metadata": {
            "tags": [],
            "needs_background": "light"
          }
        }
      ]
    },
    {
      "cell_type": "code",
      "metadata": {
        "id": "Tw33fVBJ7jN3",
        "outputId": "99326388-e54f-435e-8121-85cfd87b4240",
        "colab": {
          "base_uri": "https://localhost:8080/"
        }
      },
      "source": [
        "predictions = mnist.predict(test_images[:5])\n",
        "\n",
        "print(np.argmax(predictions, axis=1))"
      ],
      "execution_count": null,
      "outputs": [
        {
          "output_type": "stream",
          "text": [
            "[7 2 1 0 4]\n"
          ],
          "name": "stdout"
        }
      ]
    },
    {
      "cell_type": "code",
      "metadata": {
        "id": "hA4AhQ599TyG",
        "outputId": "ee6a1249-560b-4763-b54a-ca224b52c3b2",
        "colab": {
          "base_uri": "https://localhost:8080/",
          "height": 282
        }
      },
      "source": [
        "plt.imshow(X_test[0])"
      ],
      "execution_count": null,
      "outputs": [
        {
          "output_type": "execute_result",
          "data": {
            "text/plain": [
              "<matplotlib.image.AxesImage at 0x7fb8d798b7b8>"
            ]
          },
          "metadata": {
            "tags": []
          },
          "execution_count": 51
        },
        {
          "output_type": "display_data",
          "data": {
            "image/png": "[encoded data removed]",
            "text/plain": [
              "<Figure size 432x288 with 1 Axes>"
            ]
          },
          "metadata": {
            "tags": [],
            "needs_background": "light"
          }
        }
      ]
    },
    {
      "cell_type": "code",
      "metadata": {
        "id": "aqlzlvou89l_"
      },
      "source": [
        "class_names = ['zero', 'one', 'two', 'three', 'four', 'five', 'six', 'seven', 'eight', 'nine']"
      ],
      "execution_count": null,
      "outputs": []
    },
    {
      "cell_type": "code",
      "metadata": {
        "id": "gVix3wcBA_aB",
        "outputId": "1e47e4c4-d9a2-45a4-f27f-b16852e7c224",
        "colab": {
          "base_uri": "https://localhost:8080/",
          "height": 35
        }
      },
      "source": [
        "class_names[np.argmax(predictions, axis=1)[0]]"
      ],
      "execution_count": null,
      "outputs": [
        {
          "output_type": "execute_result",
          "data": {
            "application/vnd.google.colaboratory.intrinsic+json": {
              "type": "string"
            },
            "text/plain": [
              "'seven'"
            ]
          },
          "metadata": {
            "tags": []
          },
          "execution_count": 53
        }
      ]
    },
    {
      "cell_type": "code",
      "metadata": {
        "id": "6gHEGganLqGe"
      },
      "source": [
        "plt.figure(figsize=(10,10))\n",
        "for i in range(25):\n",
        "  plt.subplot(5,5,i+1)\n",
        "  plt.xticks([])\n",
        "  plt.yticks([])\n",
        "  plt.grid(False)\n",
        "  plt.imshow(X_test[i], cmap=plt.cm.binary)\n",
        "  plt.xlabel(class_names[np.argmax(predictions_all, axis=1)[i]])\n",
        "plt.suptitle('mnist', fontsize=14)\n",
        "plt.show()"
      ],
      "execution_count": null,
      "outputs": []
    },
    {
      "cell_type": "code",
      "metadata": {
        "id": "thy7XpBWMI4V"
      },
      "source": [
        "#@title we can do more!\n",
        "\n",
        "es = tf.keras.callbacks.EarlyStopping(monitor='val_loss', mode='min', verbose=1, patience=5)\n",
        "cg = tf.keras.callbacks.LambdaCallback(on_epoch_end=show_frame)\n",
        "tb = tf.keras.callbacks.TensorBoard(log_dir='./logs')\n",
        "\n",
        "\n",
        "####Your task is do tthe same with cifar10!###"
      ],
      "execution_count": null,
      "outputs": []
    },
    {
      "cell_type": "markdown",
      "metadata": {
        "id": "IqsBqLveNLbp"
      },
      "source": [
        ""
      ]
    },
    {
      "cell_type": "code",
      "metadata": {
        "id": "Sgr05PBspVfu"
      },
      "source": [
        "from IPython.display import clear_output\n",
        "\n",
        "def show_frame(epoch, logs):\n",
        "  clear_output(wait=True)\n",
        "\n",
        "\n",
        "  predictions_all = cifar10.predict(test_images)\n",
        "\n",
        "\n",
        "  plt.figure(figsize=(10,10))\n",
        "  for i in range(25):\n",
        "    plt.subplot(5,5,i+1)\n",
        "    plt.xticks([])\n",
        "    plt.yticks([])\n",
        "    plt.grid(False)\n",
        "    plt.imshow(X_test[i], cmap=plt.cm.binary)\n",
        "    plt.xlabel(class_names[np.argmax(predictions_all, axis=1)[i]])\n",
        "  plt.suptitle(f\"Epoch: {epoch}\", fontsize=14)\n",
        "  plt.show()\n",
        "\n",
        "  \n"
      ],
      "execution_count": null,
      "outputs": []
    },
    {
      "cell_type": "code",
      "metadata": {
        "id": "KdCAp8lTt3pv"
      },
      "source": [
        "es = tf.keras.callbacks.EarlyStopping(monitor='val_loss', mode='min', verbose=1, patience=5)\n",
        "cg = tf.keras.callbacks.LambdaCallback(on_epoch_end=show_frame)"
      ],
      "execution_count": null,
      "outputs": []
    },
    {
      "cell_type": "code",
      "metadata": {
        "id": "Zkz-69Ysq2uP",
        "outputId": "54a81152-54d3-4529-89a0-0d034f880d15",
        "colab": {
          "base_uri": "https://localhost:8080/",
          "height": 678
        }
      },
      "source": [
        "history = cifar10.fit(train_images, y_train, epochs=300, \n",
        "                    batch_size=64,\n",
        "                    validation_data=(test_images, y_test),\n",
        "                    callbacks=[es, cg],\n",
        "                    verbose = 0)"
      ],
      "execution_count": null,
      "outputs": [
        {
          "output_type": "display_data",
          "data": {
            "image/png": "[encoded data removed]",
            "text/plain": [
              "<Figure size 720x720 with 25 Axes>"
            ]
          },
          "metadata": {
            "tags": []
          }
        },
        {
          "output_type": "stream",
          "text": [
            "Epoch 00014: early stopping\n"
          ],
          "name": "stdout"
        }
      ]
    },
    {
      "cell_type": "code",
      "metadata": {
        "id": "eDZSo8PJLiC2"
      },
      "source": [
        ""
      ],
      "execution_count": null,
      "outputs": []
    },
    {
      "cell_type": "markdown",
      "metadata": {
        "id": "xC-Ot8Yku-Kf"
      },
      "source": [
        "#Let's take it even futher!\n",
        "\n",
        "Head over to the bonus round notebook and let's take a look.\n",
        "\n",
        " We won't delve into fine-tuning a network this time around, but the whole basis is there for you to look at. Note that I've unfrozen every single for demonstration purposes"
      ]
    },
    {
      "cell_type": "code",
      "metadata": {
        "id": "4BKckZIG7Eg9"
      },
      "source": [
        "# Create the base model from the pre-trained model VGG16\n"
      ],
      "execution_count": null,
      "outputs": []
    },
    {
      "cell_type": "code",
      "metadata": {
        "id": "-WF6iBun7gb2"
      },
      "source": [
        "base_model.summary()"
      ],
      "execution_count": null,
      "outputs": []
    },
    {
      "cell_type": "code",
      "metadata": {
        "id": "r3E5jGlWlwwT"
      },
      "source": [
        "show_local_mp4_video('/content/drive/My Drive/testing ground/toronto-ml/intro-to-tf2/images/activations/all_layers_final.mp4')"
      ],
      "execution_count": null,
      "outputs": []
    },
    {
      "cell_type": "code",
      "metadata": {
        "id": "a62wNsjMnbGa",
        "outputId": "fd00d400-a881-4464-9db1-8d82c00d2330",
        "colab": {
          "base_uri": "https://localhost:8080/"
        }
      },
      "source": [
        "!pip install --upgrade IPython"
      ],
      "execution_count": null,
      "outputs": [
        {
          "output_type": "stream",
          "text": [
            "Requirement already up-to-date: IPython in /usr/local/lib/python3.6/dist-packages (7.16.1)\n",
            "Requirement already satisfied, skipping upgrade: traitlets>=4.2 in /usr/local/lib/python3.6/dist-packages (from IPython) (4.3.3)\n",
            "Requirement already satisfied, skipping upgrade: setuptools>=18.5 in /usr/local/lib/python3.6/dist-packages (from IPython) (50.3.2)\n",
            "Requirement already satisfied, skipping upgrade: pexpect; sys_platform != \"win32\" in /usr/local/lib/python3.6/dist-packages (from IPython) (4.8.0)\n",
            "Requirement already satisfied, skipping upgrade: pygments in /usr/local/lib/python3.6/dist-packages (from IPython) (2.6.1)\n",
            "Requirement already satisfied, skipping upgrade: prompt-toolkit!=3.0.0,!=3.0.1,<3.1.0,>=2.0.0 in /usr/local/lib/python3.6/dist-packages (from IPython) (3.0.8)\n",
            "Requirement already satisfied, skipping upgrade: jedi>=0.10 in /usr/local/lib/python3.6/dist-packages (from IPython) (0.17.2)\n",
            "Requirement already satisfied, skipping upgrade: decorator in /usr/local/lib/python3.6/dist-packages (from IPython) (4.4.2)\n",
            "Requirement already satisfied, skipping upgrade: pickleshare in /usr/local/lib/python3.6/dist-packages (from IPython) (0.7.5)\n",
            "Requirement already satisfied, skipping upgrade: backcall in /usr/local/lib/python3.6/dist-packages (from IPython) (0.2.0)\n",
            "Requirement already satisfied, skipping upgrade: six in /usr/local/lib/python3.6/dist-packages (from traitlets>=4.2->IPython) (1.15.0)\n",
            "Requirement already satisfied, skipping upgrade: ipython-genutils in /usr/local/lib/python3.6/dist-packages (from traitlets>=4.2->IPython) (0.2.0)\n",
            "Requirement already satisfied, skipping upgrade: ptyprocess>=0.5 in /usr/local/lib/python3.6/dist-packages (from pexpect; sys_platform != \"win32\"->IPython) (0.6.0)\n",
            "Requirement already satisfied, skipping upgrade: wcwidth in /usr/local/lib/python3.6/dist-packages (from prompt-toolkit!=3.0.0,!=3.0.1,<3.1.0,>=2.0.0->IPython) (0.2.5)\n",
            "Requirement already satisfied, skipping upgrade: parso<0.8.0,>=0.7.0 in /usr/local/lib/python3.6/dist-packages (from jedi>=0.10->IPython) (0.7.1)\n"
          ],
          "name": "stdout"
        }
      ]
    },
    {
      "cell_type": "code",
      "metadata": {
        "id": "6x8-CCZJqJgS",
        "outputId": "c7d563d6-c889-49e2-ae74-6b2d8fa12823",
        "colab": {
          "base_uri": "https://localhost:8080/",
          "height": 521
        }
      },
      "source": [
        "upload = False\n",
        "from kora.drive import upload_public\n",
        "from IPython.display import HTML\n",
        "\n",
        "url = 'https://drive.google.com/uc?id=11eibnodv9AyJelpKSZZFUk-na0AHumEy'\n",
        "\n",
        "if upload:\n",
        "  url = upload_public('/content/drive/My Drive/testing ground/toronto-ml/intro-to-tf2/images/activations/all_layers_final.mp4')\n",
        "\n",
        "\n",
        "HTML(f\"\"\"<video src={url} width=800 height=500 controls/>\"\"\")"
      ],
      "execution_count": null,
      "outputs": [
        {
          "output_type": "execute_result",
          "data": {
            "text/html": [
              "<video src=https://drive.google.com/uc?id=11eibnodv9AyJelpKSZZFUk-na0AHumEy width=800 height=500 controls/>"
            ],
            "text/plain": [
              "<IPython.core.display.HTML object>"
            ]
          },
          "metadata": {
            "tags": []
          },
          "execution_count": 6
        }
      ]
    },
    {
      "cell_type": "markdown",
      "metadata": {
        "id": "E_8Prx7zvC-a"
      },
      "source": [
        "#Don't stop me now!\n",
        "\n",
        "\n",
        "\n",
        "\n",
        "We've been very visual so far as the second workshop will concentrate predominatly on Tensorflow Object Detection API in conjunction with Openvino,  but what about NLP another important problem domain in our day and age. Well this actually gives us a great opportunity to introduce Tensorflow Hub!\n",
        "\n",
        "Intended as a way of leveraging pretrained models and parts on the fly, hub  offers us a pretty quick way to start working with text data and even fine-tune pre-exisiting models."
      ]
    },
    {
      "cell_type": "code",
      "metadata": {
        "id": "BZTCEdi2nkqk"
      },
      "source": [
        "#It's super easy to grab reusable pre-trained parts with Tensorflow Hub:\n",
        "\n",
        "model = \"https://tfhub.dev/google/nnlm-en-dim128/2\"\n",
        "embed = hub.KerasLayer(model, dtype=tf.string)\n",
        "\n"
      ],
      "execution_count": null,
      "outputs": []
    },
    {
      "cell_type": "code",
      "metadata": {
        "id": "l3VNPpaaLPJj"
      },
      "source": [
        "#Can you finish up the interactive code below?\n",
        "\n",
        "import ipywidgets as widget\n",
        "from ipywidgets import interact\n",
        "import tensorflow_hub as hub\n",
        "import seaborn as sns\n",
        "import numpy as np\n",
        "import matplotlib.pyplot as plt\n",
        "import re\n",
        "\n",
        "\n",
        "model_dirs = [\"https://tfhub.dev/google/nnlm-en-dim128/2\",\n",
        "              \"https://tfhub.dev/google/tf2-preview/nnlm-es-dim50-with-normalization/1\",\n",
        "              \"https://tfhub.dev/google/universal-sentence-encoder/4\"\n",
        "              ]\n",
        "\n",
        "def display_embed(phrases, model):\n",
        "  #your code here \n",
        "\n",
        "  ########\n",
        "\n",
        "\n",
        "  plot_similarity(phrases, embeddings, 90, model)\n",
        "  #print(embeddings.shape)\n",
        "\n",
        "\n",
        "def plot_similarity(labels, features, rotation, model):\n",
        "\n",
        "  title = re.sub('https://tfhub.dev/google/', '', model)\n",
        "\n",
        "  corr = np.inner(features, features)\n",
        "  sns.set(font_scale=1.2)\n",
        "  g = sns.heatmap(\n",
        "      corr,\n",
        "      xticklabels=labels,\n",
        "      yticklabels=labels,\n",
        "      vmin=0,\n",
        "      vmax=1,\n",
        "      cmap=\"YlOrRd\")\n",
        "  g.set_xticklabels(labels, rotation=rotation)\n",
        "  g.set_title(title)\n",
        "  plt.show()\n",
        "\n",
        "\n",
        "\n",
        "\n"
      ],
      "execution_count": null,
      "outputs": []
    },
    {
      "cell_type": "code",
      "metadata": {
        "id": "AYyTUkRX9zwh"
      },
      "source": [
        "#Aha! otherewise we're importing parts with the @tf.function decorator and tracing is going to make a mess of things\n",
        "tf.config.run_functions_eagerly(True)"
      ],
      "execution_count": null,
      "outputs": []
    },
    {
      "cell_type": "markdown",
      "metadata": {
        "id": "B3uhCLNRcl4n"
      },
      "source": [
        ""
      ]
    },
    {
      "cell_type": "code",
      "metadata": {
        "id": "YvB-ADD8OalZ",
        "outputId": "7ab7dd3c-3c2a-42c5-e502-27b8d4ff84ac",
        "colab": {
          "base_uri": "https://localhost:8080/",
          "height": 432,
          "referenced_widgets": [
            "a265fd54376145278d7b19879aa78def",
            "bb230c4097664574af095be1cee9d812",
            "11b7f76bff494c34946f736c0847c868",
            "98af4f8b0e1847d2afa51ec1ef3df635",
            "7c5af1b14662436794596ef01f9a8de2",
            "cf7cd85a2eaa4fb09f605f3bbcfc4d2b",
            "67f091ce428a49d1b22c79dfa649d77f",
            "3fb44b86792f45f795bc9dfa79aebdb2",
            "2af5db5875074359b88d2c847e69571d",
            "2be59261f710407da50f766867aefe28",
            "1e2b28ac5a984b60a4f14386fd49bc9f",
            "47cf76f19dca4e4a99d916829b02d14f",
            "2295f67b3f58484e9199e70038df8b17",
            "fd2004cf98b84a6fbaabe7b8eb7b4c33"
          ]
        }
      },
      "source": [
        "import ipywidgets as widgets\n",
        "from IPython.display import display, clear_output\n",
        "\n",
        "\n",
        "w = widgets.Dropdown(\n",
        "    options=model_dirs,\n",
        "    description='Model:',\n",
        ")\n",
        "\n",
        "input_text = widgets.Text(description = 'input one: ')\n",
        "input_text2 = widgets.Text(description = 'input two: ')\n",
        "input_text3 = widgets.Text(description = 'input three: ')\n",
        "\n",
        "\n",
        "\n",
        "out = widgets.Output()\n",
        "\n",
        "def on_change(change):\n",
        "    #print(change.new)\n",
        "    with out:\n",
        "      clear_output()\n",
        "      inputs = [input_text.value, input_text2.value, \n",
        "                input_text3.value]\n",
        "    \n",
        "      display_embed(inputs,change.new)\n",
        "\n",
        "\n",
        "\n",
        "#model.observe(on_change, names='value')\n",
        "w.observe(on_change, names='value')\n",
        "\n",
        "display(input_text)\n",
        "display(input_text2)\n",
        "display(input_text3)\n",
        "display(w)\n",
        "display(out)"
      ],
      "execution_count": null,
      "outputs": [
        {
          "output_type": "display_data",
          "data": {
            "application/vnd.jupyter.widget-view+json": {
              "model_id": "a265fd54376145278d7b19879aa78def",
              "version_minor": 0,
              "version_major": 2
            },
            "text/plain": [
              "Text(value='', description='input one: ')"
            ]
          },
          "metadata": {
            "tags": []
          }
        },
        {
          "output_type": "display_data",
          "data": {
            "application/vnd.jupyter.widget-view+json": {
              "model_id": "98af4f8b0e1847d2afa51ec1ef3df635",
              "version_minor": 0,
              "version_major": 2
            },
            "text/plain": [
              "Text(value='', description='input two: ')"
            ]
          },
          "metadata": {
            "tags": []
          }
        },
        {
          "output_type": "display_data",
          "data": {
            "application/vnd.jupyter.widget-view+json": {
              "model_id": "67f091ce428a49d1b22c79dfa649d77f",
              "version_minor": 0,
              "version_major": 2
            },
            "text/plain": [
              "Text(value='', description='input three: ')"
            ]
          },
          "metadata": {
            "tags": []
          }
        },
        {
          "output_type": "display_data",
          "data": {
            "application/vnd.jupyter.widget-view+json": {
              "model_id": "2be59261f710407da50f766867aefe28",
              "version_minor": 0,
              "version_major": 2
            },
            "text/plain": [
              "Dropdown(description='Model:', options=('https://tfhub.dev/google/nnlm-en-dim128/2', 'https://tfhub.dev/google…"
            ]
          },
          "metadata": {
            "tags": []
          }
        },
        {
          "output_type": "display_data",
          "data": {
            "application/vnd.jupyter.widget-view+json": {
              "model_id": "2295f67b3f58484e9199e70038df8b17",
              "version_minor": 0,
              "version_major": 2
            },
            "text/plain": [
              "Output()"
            ]
          },
          "metadata": {
            "tags": []
          }
        }
      ]
    },
    {
      "cell_type": "markdown",
      "metadata": {
        "id": "8p8UBvc23o-q"
      },
      "source": [
        "#There's more! \n",
        "\n",
        "Up next we have somewhat of a sequel to this workshop where we'll be looking at deploying Tensorflow models to the edge! \n",
        "\n",
        "For now it's worth noting that the ecosystem goes even further with goodies like the Tensorflow Object Detection API and tf-agents but we'll be looking at that in our next session in what is essentially the sequel to this worskhop! Thanks everybody!\n",
        "\n",
        "###Useful links\n",
        "\n",
        "- [Tensorflow Hub](https://www.tensorflow.org/hub)\n",
        "-[Tensorflow Object Detection API](https://github.com/tensorflow/models/tree/master/research/object_detection)\n",
        "-[Tf-agents](https://github.com/tensorflow/agents)\n",
        "-[Openvino Toolkit](https://docs.openvinotoolkit.org/latest/index.html)\n",
        "\n"
      ]
    }
  ]
}